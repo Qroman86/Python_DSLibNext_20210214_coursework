{
 "cells": [
  {
   "cell_type": "code",
   "execution_count": 1,
   "metadata": {},
   "outputs": [],
   "source": [
    "import pandas as pd\n",
    "import numpy as np\n",
    "import pickle\n",
    "import random\n",
    "from pathlib import Path\n",
    "\n",
    "from sklearn.preprocessing import StandardScaler, MinMaxScaler\n",
    "from sklearn.model_selection import train_test_split, ShuffleSplit, cross_val_score, learning_curve\n",
    "from sklearn.model_selection import StratifiedKFold, GridSearchCV, RandomizedSearchCV\n",
    "from sklearn.metrics import classification_report, f1_score, precision_score, recall_score\n",
    "\n",
    "from sklearn.tree import DecisionTreeClassifier\n",
    "from sklearn.linear_model import LogisticRegression\n",
    "from sklearn.neighbors import KNeighborsClassifier\n",
    "import xgboost as xgb, lightgbm as lgbm, catboost as catb\n",
    "\n",
    "import seaborn as sns\n",
    "from matplotlib import pyplot as plt\n",
    "%matplotlib inline\n",
    "\n",
    "import warnings\n",
    "warnings.filterwarnings('ignore')"
   ]
  },
  {
   "cell_type": "code",
   "execution_count": 2,
   "metadata": {},
   "outputs": [],
   "source": [
    "def get_classification_report(y_train_true, y_train_pred, y_test_true, y_test_pred):\n",
    "    print('TRAIN\\n\\n' + classification_report(y_train_true, y_train_pred))\n",
    "    print('TEST\\n\\n' + classification_report(y_test_true, y_test_pred))\n",
    "    print('CONFUSION MATRIX\\n')\n",
    "    print(pd.crosstab(y_test_true, y_test_pred))"
   ]
  },
  {
   "cell_type": "code",
   "execution_count": 3,
   "metadata": {},
   "outputs": [],
   "source": [
    "def evaluate_preds(model, X_train, X_test, y_train, y_test):\n",
    "    y_train_pred = model.predict(X_train)\n",
    "    y_test_pred = model.predict(X_test)\n",
    "\n",
    "    get_classification_report(y_train, y_train_pred, y_test, y_test_pred)"
   ]
  },
  {
   "cell_type": "code",
   "execution_count": 4,
   "metadata": {},
   "outputs": [],
   "source": [
    "def balance_df_by_target(df, target_name, method='over'):\n",
    "\n",
    "    assert method in ['over', 'under', 'tomek', 'smote'], 'Неверный метод сэмплирования'\n",
    "    \n",
    "    target_counts = df[target_name].value_counts()\n",
    "\n",
    "    major_class_name = target_counts.argmax()\n",
    "    minor_class_name = target_counts.argmin()\n",
    "\n",
    "    disbalance_coeff = int(target_counts[major_class_name] / target_counts[minor_class_name]) - 1\n",
    "    if method == 'over':\n",
    "        for i in range(disbalance_coeff):\n",
    "            sample = df[df[target_name] == minor_class_name].sample(target_counts[minor_class_name])\n",
    "            df = df.append(sample, ignore_index=True)\n",
    "            \n",
    "    elif method == 'under':\n",
    "        df_ = df.copy()\n",
    "        df = df_[df_[target_name] == minor_class_name]\n",
    "        tmp = df_[df_[target_name] == major_class_name]\n",
    "        df = df.append(tmp.iloc[\n",
    "            np.random.randint(0, tmp.shape[0], target_counts[minor_class_name])\n",
    "        ], ignore_index=True)\n",
    "\n",
    "    elif method == 'tomek':\n",
    "        from imblearn.under_sampling import TomekLinks\n",
    "        tl = TomekLinks()\n",
    "        X_tomek, y_tomek = tl.fit_sample(df.drop(columns=target_name), df[target_name])\n",
    "        df = pd.concat([X_tomek, y_tomek], axis=1)\n",
    "    \n",
    "    elif method == 'smote':\n",
    "        from imblearn.over_sampling import SMOTE\n",
    "        smote = SMOTE()\n",
    "        X_smote, y_smote = smote.fit_sample(df.drop(columns=target_name), df[target_name])\n",
    "        df = pd.concat([X_smote, y_smote], axis=1)\n",
    "\n",
    "    return df.sample(frac=1) "
   ]
  },
  {
   "cell_type": "code",
   "execution_count": 5,
   "metadata": {},
   "outputs": [],
   "source": [
    "from pathlib import Path\n",
    "\n",
    "TEST_PATH = 'test.csv'\n",
    "TRAIN_PATH = 'train.csv'\n",
    "\n",
    "\n"
   ]
  },
  {
   "cell_type": "code",
   "execution_count": 6,
   "metadata": {},
   "outputs": [
    {
     "data": {
      "text/html": [
       "<div>\n",
       "<style scoped>\n",
       "    .dataframe tbody tr th:only-of-type {\n",
       "        vertical-align: middle;\n",
       "    }\n",
       "\n",
       "    .dataframe tbody tr th {\n",
       "        vertical-align: top;\n",
       "    }\n",
       "\n",
       "    .dataframe thead th {\n",
       "        text-align: right;\n",
       "    }\n",
       "</style>\n",
       "<table border=\"1\" class=\"dataframe\">\n",
       "  <thead>\n",
       "    <tr style=\"text-align: right;\">\n",
       "      <th></th>\n",
       "      <th>Home Ownership</th>\n",
       "      <th>Annual Income</th>\n",
       "      <th>Years in current job</th>\n",
       "      <th>Tax Liens</th>\n",
       "      <th>Number of Open Accounts</th>\n",
       "      <th>Years of Credit History</th>\n",
       "      <th>Maximum Open Credit</th>\n",
       "      <th>Number of Credit Problems</th>\n",
       "      <th>Months since last delinquent</th>\n",
       "      <th>Bankruptcies</th>\n",
       "      <th>Purpose</th>\n",
       "      <th>Term</th>\n",
       "      <th>Current Loan Amount</th>\n",
       "      <th>Current Credit Balance</th>\n",
       "      <th>Monthly Debt</th>\n",
       "      <th>Credit Score</th>\n",
       "      <th>Credit Default</th>\n",
       "    </tr>\n",
       "  </thead>\n",
       "  <tbody>\n",
       "    <tr>\n",
       "      <th>0</th>\n",
       "      <td>Own Home</td>\n",
       "      <td>482087.0</td>\n",
       "      <td>NaN</td>\n",
       "      <td>0.0</td>\n",
       "      <td>11.0</td>\n",
       "      <td>26.3</td>\n",
       "      <td>685960.0</td>\n",
       "      <td>1.0</td>\n",
       "      <td>NaN</td>\n",
       "      <td>1.0</td>\n",
       "      <td>debt consolidation</td>\n",
       "      <td>Short Term</td>\n",
       "      <td>99999999.0</td>\n",
       "      <td>47386.0</td>\n",
       "      <td>7914.0</td>\n",
       "      <td>749.0</td>\n",
       "      <td>0</td>\n",
       "    </tr>\n",
       "    <tr>\n",
       "      <th>1</th>\n",
       "      <td>Own Home</td>\n",
       "      <td>1025487.0</td>\n",
       "      <td>10+ years</td>\n",
       "      <td>0.0</td>\n",
       "      <td>15.0</td>\n",
       "      <td>15.3</td>\n",
       "      <td>1181730.0</td>\n",
       "      <td>0.0</td>\n",
       "      <td>NaN</td>\n",
       "      <td>0.0</td>\n",
       "      <td>debt consolidation</td>\n",
       "      <td>Long Term</td>\n",
       "      <td>264968.0</td>\n",
       "      <td>394972.0</td>\n",
       "      <td>18373.0</td>\n",
       "      <td>737.0</td>\n",
       "      <td>1</td>\n",
       "    </tr>\n",
       "    <tr>\n",
       "      <th>2</th>\n",
       "      <td>Home Mortgage</td>\n",
       "      <td>751412.0</td>\n",
       "      <td>8 years</td>\n",
       "      <td>0.0</td>\n",
       "      <td>11.0</td>\n",
       "      <td>35.0</td>\n",
       "      <td>1182434.0</td>\n",
       "      <td>0.0</td>\n",
       "      <td>NaN</td>\n",
       "      <td>0.0</td>\n",
       "      <td>debt consolidation</td>\n",
       "      <td>Short Term</td>\n",
       "      <td>99999999.0</td>\n",
       "      <td>308389.0</td>\n",
       "      <td>13651.0</td>\n",
       "      <td>742.0</td>\n",
       "      <td>0</td>\n",
       "    </tr>\n",
       "    <tr>\n",
       "      <th>3</th>\n",
       "      <td>Own Home</td>\n",
       "      <td>805068.0</td>\n",
       "      <td>6 years</td>\n",
       "      <td>0.0</td>\n",
       "      <td>8.0</td>\n",
       "      <td>22.5</td>\n",
       "      <td>147400.0</td>\n",
       "      <td>1.0</td>\n",
       "      <td>NaN</td>\n",
       "      <td>1.0</td>\n",
       "      <td>debt consolidation</td>\n",
       "      <td>Short Term</td>\n",
       "      <td>121396.0</td>\n",
       "      <td>95855.0</td>\n",
       "      <td>11338.0</td>\n",
       "      <td>694.0</td>\n",
       "      <td>0</td>\n",
       "    </tr>\n",
       "    <tr>\n",
       "      <th>4</th>\n",
       "      <td>Rent</td>\n",
       "      <td>776264.0</td>\n",
       "      <td>8 years</td>\n",
       "      <td>0.0</td>\n",
       "      <td>13.0</td>\n",
       "      <td>13.6</td>\n",
       "      <td>385836.0</td>\n",
       "      <td>1.0</td>\n",
       "      <td>NaN</td>\n",
       "      <td>0.0</td>\n",
       "      <td>debt consolidation</td>\n",
       "      <td>Short Term</td>\n",
       "      <td>125840.0</td>\n",
       "      <td>93309.0</td>\n",
       "      <td>7180.0</td>\n",
       "      <td>719.0</td>\n",
       "      <td>0</td>\n",
       "    </tr>\n",
       "  </tbody>\n",
       "</table>\n",
       "</div>"
      ],
      "text/plain": [
       "  Home Ownership  Annual Income Years in current job  Tax Liens  \\\n",
       "0       Own Home       482087.0                  NaN        0.0   \n",
       "1       Own Home      1025487.0            10+ years        0.0   \n",
       "2  Home Mortgage       751412.0              8 years        0.0   \n",
       "3       Own Home       805068.0              6 years        0.0   \n",
       "4           Rent       776264.0              8 years        0.0   \n",
       "\n",
       "   Number of Open Accounts  Years of Credit History  Maximum Open Credit  \\\n",
       "0                     11.0                     26.3             685960.0   \n",
       "1                     15.0                     15.3            1181730.0   \n",
       "2                     11.0                     35.0            1182434.0   \n",
       "3                      8.0                     22.5             147400.0   \n",
       "4                     13.0                     13.6             385836.0   \n",
       "\n",
       "   Number of Credit Problems  Months since last delinquent  Bankruptcies  \\\n",
       "0                        1.0                           NaN           1.0   \n",
       "1                        0.0                           NaN           0.0   \n",
       "2                        0.0                           NaN           0.0   \n",
       "3                        1.0                           NaN           1.0   \n",
       "4                        1.0                           NaN           0.0   \n",
       "\n",
       "              Purpose        Term  Current Loan Amount  \\\n",
       "0  debt consolidation  Short Term           99999999.0   \n",
       "1  debt consolidation   Long Term             264968.0   \n",
       "2  debt consolidation  Short Term           99999999.0   \n",
       "3  debt consolidation  Short Term             121396.0   \n",
       "4  debt consolidation  Short Term             125840.0   \n",
       "\n",
       "   Current Credit Balance  Monthly Debt  Credit Score  Credit Default  \n",
       "0                 47386.0        7914.0         749.0               0  \n",
       "1                394972.0       18373.0         737.0               1  \n",
       "2                308389.0       13651.0         742.0               0  \n",
       "3                 95855.0       11338.0         694.0               0  \n",
       "4                 93309.0        7180.0         719.0               0  "
      ]
     },
     "execution_count": 6,
     "metadata": {},
     "output_type": "execute_result"
    }
   ],
   "source": [
    "df = pd.read_csv(TRAIN_PATH)\n",
    "df.head()"
   ]
  },
  {
   "cell_type": "code",
   "execution_count": 7,
   "metadata": {},
   "outputs": [
    {
     "data": {
      "text/plain": [
       "(7500, 17)"
      ]
     },
     "execution_count": 7,
     "metadata": {},
     "output_type": "execute_result"
    }
   ],
   "source": [
    "df.shape"
   ]
  },
  {
   "cell_type": "code",
   "execution_count": 8,
   "metadata": {},
   "outputs": [],
   "source": [
    "TARGET_NAME = 'Credit Default'\n",
    "BASE_FEATURE_NAMES = df.columns.drop(TARGET_NAME).tolist()\n",
    "NEW_FEATURE_NAMES = df.columns.drop([TARGET_NAME] + BASE_FEATURE_NAMES).tolist()"
   ]
  },
  {
   "cell_type": "code",
   "execution_count": 9,
   "metadata": {},
   "outputs": [
    {
     "data": {
      "text/plain": [
       "0    5387\n",
       "1    2113\n",
       "Name: Credit Default, dtype: int64"
      ]
     },
     "execution_count": 9,
     "metadata": {},
     "output_type": "execute_result"
    }
   ],
   "source": [
    "df[TARGET_NAME].value_counts()"
   ]
  },
  {
   "cell_type": "code",
   "execution_count": 10,
   "metadata": {},
   "outputs": [],
   "source": [
    "NUM_FEATURE_NAMES = ['Annual Income'\n",
    "                     , 'Number of Open Accounts', 'Years of Credit History', 'Maximum Open Credit',\n",
    "                     'Bankruptcies', 'Number of Credit Problems',\n",
    "                     'Months since last delinquent',                     \n",
    "                    'Current Loan Amount', 'Current Credit Balance', 'Monthly Debt', 'Credit Score'\n",
    "                    ]\n",
    "\n",
    "CAT_FEATURE_NAMES =  ['Home Ownership', 'Years in current job', 'Purpose', 'Term']\n",
    "\n",
    "SELECTED_FEATURE_NAMES = NUM_FEATURE_NAMES  + CAT_FEATURE_NAMES #+ NEW_FEATURE_NAMES\n",
    "#Remove: Bankruptcies, Number of Credit Problems, Tax Liens"
   ]
  },
  {
   "cell_type": "code",
   "execution_count": 11,
   "metadata": {},
   "outputs": [
    {
     "name": "stdout",
     "output_type": "stream",
     "text": [
      "Home Ownership\n",
      "\n",
      "Home Mortgage    3637\n",
      "Rent             3204\n",
      "Own Home          647\n",
      "Have Mortgage      12\n",
      "Name: Home Ownership, dtype: int64\n",
      "****************************************************************************************************\n",
      "\n",
      "Years in current job\n",
      "\n",
      "10+ years    2332\n",
      "2 years       705\n",
      "3 years       620\n",
      "< 1 year      563\n",
      "5 years       516\n",
      "1 year        504\n",
      "4 years       469\n",
      "6 years       426\n",
      "7 years       396\n",
      "8 years       339\n",
      "9 years       259\n",
      "Name: Years in current job, dtype: int64\n",
      "****************************************************************************************************\n",
      "\n",
      "Purpose\n",
      "\n",
      "debt consolidation      5944\n",
      "other                    665\n",
      "home improvements        412\n",
      "business loan            129\n",
      "buy a car                 96\n",
      "medical bills             71\n",
      "major purchase            40\n",
      "take a trip               37\n",
      "buy house                 34\n",
      "small business            26\n",
      "wedding                   15\n",
      "moving                    11\n",
      "educational expenses      10\n",
      "vacation                   8\n",
      "renewable energy           2\n",
      "Name: Purpose, dtype: int64\n",
      "****************************************************************************************************\n",
      "\n",
      "Term\n",
      "\n",
      "Short Term    5556\n",
      "Long Term     1944\n",
      "Name: Term, dtype: int64\n",
      "****************************************************************************************************\n",
      "\n"
     ]
    }
   ],
   "source": [
    "for cat_colname in CAT_FEATURE_NAMES:\n",
    "    print(str(cat_colname) + '\\n\\n' + str(df[cat_colname].value_counts()) + '\\n' + '*' * 100 + '\\n')"
   ]
  },
  {
   "cell_type": "code",
   "execution_count": 12,
   "metadata": {},
   "outputs": [],
   "source": [
    "df.loc[df['Years in current job'] == '< 1 year', ['Years in current job']] = 0\n",
    "df.loc[df['Years in current job'] == '1 year', ['Years in current job']] = 1\n",
    "df.loc[df['Years in current job'] == '2 years', ['Years in current job']] = 2\n",
    "df.loc[df['Years in current job'] == '3 years', ['Years in current job']] = 3\n",
    "df.loc[df['Years in current job'] == '4 years', ['Years in current job']] = 4\n",
    "df.loc[df['Years in current job'] == '5 years', ['Years in current job']] = 5\n",
    "df.loc[df['Years in current job'] == '6 years', ['Years in current job']] = 6\n",
    "df.loc[df['Years in current job'] == '7 years', ['Years in current job']] = 7\n",
    "df.loc[df['Years in current job'] == '8 years', ['Years in current job']] = 8\n",
    "df.loc[df['Years in current job'] == '9 years', ['Years in current job']] = 9\n",
    "df.loc[df['Years in current job'] == '10+ years', ['Years in current job']] = 10\n",
    "df.loc[df['Years in current job'].isna(), ['Years in current job']] = -1\n",
    "\n",
    "\n",
    "df.loc[df['Purpose'] == 'debt consolidation', ['Purpose']] = 1\n",
    "df.loc[df['Purpose'] == 'other', ['Purpose']] = 2\n",
    "df.loc[df['Purpose'] == 'home improvements', ['Purpose']] = 3\n",
    "df.loc[df['Purpose'] == 'business loan', ['Purpose']] = 4\n",
    "df.loc[df['Purpose'] == 'buy a car', ['Purpose']] = 5\n",
    "df.loc[df['Purpose'] == 'medical bills', ['Purpose']] = 6\n",
    "df.loc[df['Purpose'] == 'major purchase', ['Purpose']] = 7\n",
    "df.loc[df['Purpose'] == 'take a trip', ['Purpose']] = 8\n",
    "df.loc[df['Purpose'] == 'buy house', ['Purpose']] = 9\n",
    "df.loc[df['Purpose'] == 'small business', ['Purpose']] = 10\n",
    "df.loc[df['Purpose'] == 'wedding', ['Purpose']] = 11\n",
    "df.loc[df['Purpose'] == 'moving', ['Purpose']] = 12\n",
    "df.loc[df['Purpose'] == 'educational expenses', ['Purpose']] = 13\n",
    "df.loc[df['Purpose'] == 'vacation', ['Purpose']] = 14\n",
    "df.loc[df['Purpose'] == 'renewable energy', ['Purpose']] = 15\n",
    "df.loc[df['Purpose'].isna(), ['Purpose']] = -1\n",
    "\n",
    "\n",
    "df.loc[df['Term'] == 'Short Term', ['Term']] = 0\n",
    "df.loc[df['Term'] == 'Long Term', ['Term']] = 1\n",
    "df.loc[df['Term'].isna(), ['Term']] = -1\n",
    "\n",
    "\n",
    "df.loc[df['Home Ownership'] == 'Home Mortgage', ['Home Ownership']] = 0\n",
    "df.loc[df['Home Ownership'] == 'Rent', ['Home Ownership']] = 1\n",
    "df.loc[df['Home Ownership'] == 'Own Home', ['Home Ownership']] = 2\n",
    "df.loc[df['Home Ownership'] == 'Have Mortgage', ['Home Ownership']] = 3\n",
    "df.loc[df['Home Ownership'].isna(), ['Home Ownership']] = -1\n",
    "\n",
    "\n",
    "\n",
    "\n",
    "\n",
    "\n",
    "df[['Years in current job', 'Purpose', 'Term', 'Home Ownership']] = df[['Years in current job', 'Purpose', 'Term', 'Home Ownership']].astype(float)\n",
    "\n"
   ]
  },
  {
   "cell_type": "code",
   "execution_count": 13,
   "metadata": {},
   "outputs": [
    {
     "name": "stdout",
     "output_type": "stream",
     "text": [
      "Home Ownership\n",
      "\n",
      "0.0    3637\n",
      "1.0    3204\n",
      "2.0     647\n",
      "3.0      12\n",
      "Name: Home Ownership, dtype: int64\n",
      "****************************************************************************************************\n",
      "\n",
      "Years in current job\n",
      "\n",
      " 10.0    2332\n",
      " 2.0      705\n",
      " 3.0      620\n",
      " 0.0      563\n",
      " 5.0      516\n",
      " 1.0      504\n",
      " 4.0      469\n",
      " 6.0      426\n",
      " 7.0      396\n",
      "-1.0      371\n",
      " 8.0      339\n",
      " 9.0      259\n",
      "Name: Years in current job, dtype: int64\n",
      "****************************************************************************************************\n",
      "\n",
      "Purpose\n",
      "\n",
      "1.0     5944\n",
      "2.0      665\n",
      "3.0      412\n",
      "4.0      129\n",
      "5.0       96\n",
      "6.0       71\n",
      "7.0       40\n",
      "8.0       37\n",
      "9.0       34\n",
      "10.0      26\n",
      "11.0      15\n",
      "12.0      11\n",
      "13.0      10\n",
      "14.0       8\n",
      "15.0       2\n",
      "Name: Purpose, dtype: int64\n",
      "****************************************************************************************************\n",
      "\n",
      "Term\n",
      "\n",
      "0.0    5556\n",
      "1.0    1944\n",
      "Name: Term, dtype: int64\n",
      "****************************************************************************************************\n",
      "\n"
     ]
    }
   ],
   "source": [
    "for cat_colname in CAT_FEATURE_NAMES:\n",
    "    print(str(cat_colname) + '\\n\\n' + str(df[cat_colname].value_counts()) + '\\n' + '*' * 100 + '\\n')"
   ]
  },
  {
   "cell_type": "code",
   "execution_count": 14,
   "metadata": {},
   "outputs": [],
   "source": [
    "scaler = StandardScaler()\n",
    "\n",
    "df_norm = df.copy()\n",
    "df_norm[NUM_FEATURE_NAMES] = scaler.fit_transform(df_norm[NUM_FEATURE_NAMES])\n",
    "\n",
    "df = df_norm.copy()"
   ]
  },
  {
   "cell_type": "code",
   "execution_count": 15,
   "metadata": {},
   "outputs": [
    {
     "data": {
      "text/plain": [
       "'Home Ownership , Annual Income , Years in current job , Tax Liens , Number of Open Accounts , Years of Credit History , Maximum Open Credit , Number of Credit Problems , Months since last delinquent , Bankruptcies , Purpose , Term , Current Loan Amount , Current Credit Balance , Monthly Debt , Credit Score , Credit Default'"
      ]
     },
     "execution_count": 15,
     "metadata": {},
     "output_type": "execute_result"
    }
   ],
   "source": [
    "#df.loc[df['Annual Income' or 'Number of Open Accounts' or 'Years of Credit History' or 'Maximum Open Credit' or 'Number of Credit Problems'\n",
    "#         or 'Months since last delinquent' or 'Bankruptcies' or 'Current Loan Amount' or 'Current Credit Balance' or 'Monthly Debt'\n",
    "#         or 'Credit Score'].isna()] = 0\n",
    "df.loc[df['Annual Income'].isna(), ['Annual Income']] = df['Annual Income'].mean()\n",
    "df.loc[df['Number of Open Accounts'].isna(), ['Number of Open Accounts']] = df['Number of Open Accounts'].mean()\n",
    "df.loc[df['Years of Credit History'].isna(), ['Years of Credit History']] = df['Years of Credit History'].mean()\n",
    "\n",
    "df.loc[df['Months since last delinquent'].isna(), ['Months since last delinquent']] = df['Months since last delinquent'].mean()\n",
    "df.loc[df['Bankruptcies'].isna(), ['Bankruptcies']] = df['Bankruptcies'].mean()\n",
    "\n",
    "df.loc[df['Years of Credit History'].isna(), ['Years of Credit History']] = df['Years of Credit History'].mean()\n",
    "df.loc[df['Number of Credit Problems'].isna(), ['Number of Credit Problems']] = df['Number of Credit Problems'].mean()\n",
    "df.loc[df['Maximum Open Credit'].isna(), ['Maximum Open Credit']] = df['Maximum Open Credit'].mean()\n",
    "df.loc[df['Months since last delinquent'].isna(), ['Months since last delinquent']] = df['Months since last delinquent'].mean()\n",
    "df.loc[df['Bankruptcies'].isna(), ['Bankruptcies']] = df['Bankruptcies'].mean()\n",
    "df.loc[df['Current Loan Amount'].isna(), ['Current Loan Amount']] = df['Current Loan Amount'].mean()\n",
    "df.loc[df['Current Credit Balance'].isna(), ['Current Credit Balance']] = df['Current Credit Balance'].mean()\n",
    "df.loc[df['Monthly Debt'].isna(), ['Monthly Debt']] = df['Monthly Debt'].mean()\n",
    "df.loc[df['Credit Score'].isna(), ['Credit Score']] = df['Credit Score'].mean()\n",
    "\" , \".join(df.columns)\n",
    "\n",
    "\n",
    "\n",
    "\n"
   ]
  },
  {
   "cell_type": "code",
   "execution_count": null,
   "metadata": {},
   "outputs": [],
   "source": [
    "\n"
   ]
  },
  {
   "cell_type": "code",
   "execution_count": 16,
   "metadata": {},
   "outputs": [
    {
     "data": {
      "text/html": [
       "<div>\n",
       "<style scoped>\n",
       "    .dataframe tbody tr th:only-of-type {\n",
       "        vertical-align: middle;\n",
       "    }\n",
       "\n",
       "    .dataframe tbody tr th {\n",
       "        vertical-align: top;\n",
       "    }\n",
       "\n",
       "    .dataframe thead th {\n",
       "        text-align: right;\n",
       "    }\n",
       "</style>\n",
       "<table border=\"1\" class=\"dataframe\">\n",
       "  <thead>\n",
       "    <tr style=\"text-align: right;\">\n",
       "      <th></th>\n",
       "      <th>Home Ownership</th>\n",
       "      <th>Annual Income</th>\n",
       "      <th>Years in current job</th>\n",
       "      <th>Tax Liens</th>\n",
       "      <th>Number of Open Accounts</th>\n",
       "      <th>Years of Credit History</th>\n",
       "      <th>Maximum Open Credit</th>\n",
       "      <th>Number of Credit Problems</th>\n",
       "      <th>Months since last delinquent</th>\n",
       "      <th>Bankruptcies</th>\n",
       "      <th>Purpose</th>\n",
       "      <th>Term</th>\n",
       "      <th>Current Loan Amount</th>\n",
       "      <th>Current Credit Balance</th>\n",
       "      <th>Monthly Debt</th>\n",
       "      <th>Credit Score</th>\n",
       "      <th>Credit Default</th>\n",
       "    </tr>\n",
       "  </thead>\n",
       "  <tbody>\n",
       "  </tbody>\n",
       "</table>\n",
       "</div>"
      ],
      "text/plain": [
       "Empty DataFrame\n",
       "Columns: [Home Ownership, Annual Income, Years in current job, Tax Liens, Number of Open Accounts, Years of Credit History, Maximum Open Credit, Number of Credit Problems, Months since last delinquent, Bankruptcies, Purpose, Term, Current Loan Amount, Current Credit Balance, Monthly Debt, Credit Score, Credit Default]\n",
       "Index: []"
      ]
     },
     "execution_count": 16,
     "metadata": {},
     "output_type": "execute_result"
    }
   ],
   "source": [
    "df[pd.isna(df['Years in current job'])]\n"
   ]
  },
  {
   "cell_type": "code",
   "execution_count": 17,
   "metadata": {},
   "outputs": [],
   "source": [
    "from sklearn.ensemble import RandomForestRegressor\n",
    "from sklearn.metrics import r2_score\n",
    "from sklearn.metrics import f1_score\n",
    "from sklearn.metrics import precision_score\n",
    "from sklearn.metrics import recall_score\n",
    "from sklearn.preprocessing import StandardScaler\n",
    "\n",
    "\n",
    "def imputer_rfr(data, target_col):\n",
    "    data = data.copy()\n",
    "    \n",
    "    features = data.columns\n",
    "    \n",
    "    data = data[features]\n",
    "    \n",
    "    train = data[~data[target_col].isna()]\n",
    "    predict_data = data[data[target_col].isna()]\n",
    "\n",
    "    X = train.drop(columns=target_col)\n",
    "    y = train[target_col]\n",
    "    \n",
    "    X_train, X_test, y_train, y_test = train_test_split(X, y,\n",
    "                                                        test_size=0.2,\n",
    "                                                        shuffle=True,\n",
    "                                                        random_state=32)\n",
    "    \n",
    "    model = RandomForestRegressor(n_estimators=100,\n",
    "                                  max_depth=10,\n",
    "                                  random_state=42,\n",
    "                                  verbose=1)\n",
    "    model.fit(X_train, y_train)\n",
    "    \n",
    "    pred_train = model.predict(X_train)\n",
    "    pred_test = model.predict(X_test)\n",
    "    \n",
    "    print(f\"r2 на train: {r2_score(y_train, pred_train)}\")\n",
    "    print(f\"r2 на test: {r2_score(y_test, pred_test)}\")\n",
    "\n",
    "    pred = model.predict(predict_data.drop(columns=target_col))\n",
    "\n",
    "    data.loc[data[target_col].isna(), target_col] = list(pred)\n",
    "    return model, data"
   ]
  },
  {
   "cell_type": "code",
   "execution_count": 18,
   "metadata": {},
   "outputs": [
    {
     "data": {
      "image/png": "[encoded data removed]",
      "text/plain": [
       "<Figure size 1152x1152 with 12 Axes>"
      ]
     },
     "metadata": {
      "needs_background": "light"
     },
     "output_type": "display_data"
    }
   ],
   "source": [
    "df[NUM_FEATURE_NAMES].hist(figsize=(16, 16), bins=20, grid=False);"
   ]
  },
  {
   "cell_type": "code",
   "execution_count": 19,
   "metadata": {},
   "outputs": [
    {
     "data": {
      "image/png": "[encoded data removed]",
      "text/plain": [
       "<Figure size 432x288 with 1 Axes>"
      ]
     },
     "metadata": {
      "needs_background": "light"
     },
     "output_type": "display_data"
    }
   ],
   "source": [
    "def preprocess_outlier(df, col, threshold):\n",
    "    # можно по threshold отсекать, а можно и по квантилям\n",
    "    \n",
    "    df.loc[df[col] > threshold, col] = np.nan\n",
    "    return df\n",
    "\n",
    "\n",
    "\n",
    "\n",
    "def preprocess_underlier(df, col, threshold):\n",
    "    # можно по threshold отсекать, а можно и по квантилям\n",
    "    df.loc[df[col] < threshold, col] = np.nan\n",
    "    return df\n",
    "\n",
    "feature_name = 'Annual Income'\n",
    "df[feature_name].hist();"
   ]
  },
  {
   "cell_type": "raw",
   "metadata": {},
   "source": [
    "\n",
    "\n",
    "\n",
    "\n",
    "\n",
    "df = df[SELECTED_FEATURE_NAMES + [TARGET_NAME]]\n",
    "df = preprocess_outlier(df, feature_name, threshold = 4)\n",
    "\n",
    "\n",
    "\n",
    "\n",
    "bill_amt1_predictor, df = imputer_rfr(df, feature_name)\n",
    "df[feature_name].isna().sum()\n",
    "df[feature_name]"
   ]
  },
  {
   "cell_type": "code",
   "execution_count": 20,
   "metadata": {},
   "outputs": [
    {
     "data": {
      "image/png": "[encoded data removed]",
      "text/plain": [
       "<Figure size 432x288 with 1 Axes>"
      ]
     },
     "metadata": {
      "needs_background": "light"
     },
     "output_type": "display_data"
    }
   ],
   "source": [
    "df[feature_name].hist();"
   ]
  },
  {
   "cell_type": "code",
   "execution_count": 21,
   "metadata": {},
   "outputs": [
    {
     "data": {
      "image/png": "[encoded data removed]",
      "text/plain": [
       "<Figure size 432x288 with 1 Axes>"
      ]
     },
     "metadata": {
      "needs_background": "light"
     },
     "output_type": "display_data"
    }
   ],
   "source": [
    "feature_name = 'Number of Open Accounts'\n",
    "df[feature_name].hist();"
   ]
  },
  {
   "cell_type": "raw",
   "metadata": {},
   "source": [
    "df = preprocess_outlier(df, feature_name, threshold=4)\n",
    "\n",
    "\n",
    "bill_amt1_predictor, df = imputer_rfr(df, feature_name)"
   ]
  },
  {
   "cell_type": "code",
   "execution_count": 22,
   "metadata": {},
   "outputs": [
    {
     "data": {
      "image/png": "[encoded data removed]",
      "text/plain": [
       "<Figure size 432x288 with 1 Axes>"
      ]
     },
     "metadata": {
      "needs_background": "light"
     },
     "output_type": "display_data"
    }
   ],
   "source": [
    "df[feature_name].hist();"
   ]
  },
  {
   "cell_type": "code",
   "execution_count": 23,
   "metadata": {},
   "outputs": [],
   "source": [
    "feature_name = 'Years of Credit History'"
   ]
  },
  {
   "cell_type": "code",
   "execution_count": 24,
   "metadata": {},
   "outputs": [
    {
     "data": {
      "image/png": "[encoded data removed]",
      "text/plain": [
       "<Figure size 432x288 with 1 Axes>"
      ]
     },
     "metadata": {
      "needs_background": "light"
     },
     "output_type": "display_data"
    }
   ],
   "source": [
    "df[feature_name].hist();"
   ]
  },
  {
   "cell_type": "raw",
   "metadata": {},
   "source": [
    "df = preprocess_outlier(df, feature_name, threshold=3)\n",
    "\n",
    "\n",
    "bill_amt1_predictor, df = imputer_rfr(df, feature_name)"
   ]
  },
  {
   "cell_type": "code",
   "execution_count": 25,
   "metadata": {},
   "outputs": [
    {
     "data": {
      "image/png": "[encoded data removed]",
      "text/plain": [
       "<Figure size 432x288 with 1 Axes>"
      ]
     },
     "metadata": {
      "needs_background": "light"
     },
     "output_type": "display_data"
    }
   ],
   "source": [
    "df[feature_name].hist();"
   ]
  },
  {
   "cell_type": "code",
   "execution_count": 26,
   "metadata": {},
   "outputs": [
    {
     "data": {
      "image/png": "[encoded data removed]",
      "text/plain": [
       "<Figure size 432x288 with 1 Axes>"
      ]
     },
     "metadata": {
      "needs_background": "light"
     },
     "output_type": "display_data"
    }
   ],
   "source": [
    "feature_name = 'Maximum Open Credit'\n",
    "df[feature_name].hist();"
   ]
  },
  {
   "cell_type": "code",
   "execution_count": 27,
   "metadata": {},
   "outputs": [
    {
     "name": "stderr",
     "output_type": "stream",
     "text": [
      "[Parallel(n_jobs=1)]: Using backend SequentialBackend with 1 concurrent workers.\n"
     ]
    },
    {
     "name": "stdout",
     "output_type": "stream",
     "text": [
      "r2 на train: 0.8533504206298789\n",
      "r2 на test: 0.6503334040028941\n"
     ]
    },
    {
     "name": "stderr",
     "output_type": "stream",
     "text": [
      "[Parallel(n_jobs=1)]: Done 100 out of 100 | elapsed:    1.7s finished\n",
      "[Parallel(n_jobs=1)]: Using backend SequentialBackend with 1 concurrent workers.\n",
      "[Parallel(n_jobs=1)]: Done 100 out of 100 | elapsed:    0.0s finished\n",
      "[Parallel(n_jobs=1)]: Using backend SequentialBackend with 1 concurrent workers.\n",
      "[Parallel(n_jobs=1)]: Done 100 out of 100 | elapsed:    0.0s finished\n",
      "[Parallel(n_jobs=1)]: Using backend SequentialBackend with 1 concurrent workers.\n",
      "[Parallel(n_jobs=1)]: Done 100 out of 100 | elapsed:    0.0s finished\n"
     ]
    }
   ],
   "source": [
    "df = preprocess_outlier(df, feature_name, threshold= 0.1)\n",
    "\n",
    "\n",
    "bill_amt1_predictor, df = imputer_rfr(df, feature_name)"
   ]
  },
  {
   "cell_type": "code",
   "execution_count": 28,
   "metadata": {},
   "outputs": [
    {
     "data": {
      "image/png": "[encoded data removed]",
      "text/plain": [
       "<Figure size 432x288 with 1 Axes>"
      ]
     },
     "metadata": {
      "needs_background": "light"
     },
     "output_type": "display_data"
    }
   ],
   "source": [
    "df[feature_name].hist();"
   ]
  },
  {
   "cell_type": "code",
   "execution_count": 29,
   "metadata": {},
   "outputs": [
    {
     "data": {
      "image/png": "[encoded data removed]",
      "text/plain": [
       "<Figure size 432x288 with 1 Axes>"
      ]
     },
     "metadata": {
      "needs_background": "light"
     },
     "output_type": "display_data"
    }
   ],
   "source": [
    "feature_name = 'Number of Credit Problems'\n",
    "df[feature_name].hist();"
   ]
  },
  {
   "cell_type": "code",
   "execution_count": 30,
   "metadata": {},
   "outputs": [
    {
     "name": "stderr",
     "output_type": "stream",
     "text": [
      "[Parallel(n_jobs=1)]: Using backend SequentialBackend with 1 concurrent workers.\n"
     ]
    },
    {
     "name": "stdout",
     "output_type": "stream",
     "text": [
      "r2 на train: 0.9419134574741062\n",
      "r2 на test: 0.8922683989503277\n"
     ]
    },
    {
     "name": "stderr",
     "output_type": "stream",
     "text": [
      "[Parallel(n_jobs=1)]: Done 100 out of 100 | elapsed:    1.8s finished\n",
      "[Parallel(n_jobs=1)]: Using backend SequentialBackend with 1 concurrent workers.\n",
      "[Parallel(n_jobs=1)]: Done 100 out of 100 | elapsed:    0.0s finished\n",
      "[Parallel(n_jobs=1)]: Using backend SequentialBackend with 1 concurrent workers.\n",
      "[Parallel(n_jobs=1)]: Done 100 out of 100 | elapsed:    0.0s finished\n",
      "[Parallel(n_jobs=1)]: Using backend SequentialBackend with 1 concurrent workers.\n",
      "[Parallel(n_jobs=1)]: Done 100 out of 100 | elapsed:    0.0s finished\n"
     ]
    },
    {
     "data": {
      "image/png": "[encoded data removed]",
      "text/plain": [
       "<Figure size 432x288 with 1 Axes>"
      ]
     },
     "metadata": {
      "needs_background": "light"
     },
     "output_type": "display_data"
    }
   ],
   "source": [
    "df = preprocess_outlier(df, feature_name, threshold=2)\n",
    "\n",
    "bill_amt1_predictor, df = imputer_rfr(df, feature_name)\n",
    "df[feature_name].hist();"
   ]
  },
  {
   "cell_type": "code",
   "execution_count": 31,
   "metadata": {},
   "outputs": [
    {
     "data": {
      "image/png": "[encoded data removed]",
      "text/plain": [
       "<Figure size 432x288 with 1 Axes>"
      ]
     },
     "metadata": {
      "needs_background": "light"
     },
     "output_type": "display_data"
    }
   ],
   "source": [
    "feature_name = 'Months since last delinquent'\n",
    "df[feature_name].hist();"
   ]
  },
  {
   "cell_type": "raw",
   "metadata": {},
   "source": [
    "df = preprocess_outlier(df, feature_name, threshold=1)\n",
    "\n",
    "\n",
    "bill_amt1_predictor, df = imputer_rfr(df, feature_name)\n",
    "df[feature_name].hist();"
   ]
  },
  {
   "cell_type": "code",
   "execution_count": 32,
   "metadata": {},
   "outputs": [
    {
     "data": {
      "image/png": "[encoded data removed]",
      "text/plain": [
       "<Figure size 432x288 with 1 Axes>"
      ]
     },
     "metadata": {
      "needs_background": "light"
     },
     "output_type": "display_data"
    }
   ],
   "source": [
    "feature_name = 'Bankruptcies'\n",
    "df[feature_name].hist();"
   ]
  },
  {
   "cell_type": "code",
   "execution_count": 33,
   "metadata": {},
   "outputs": [
    {
     "name": "stderr",
     "output_type": "stream",
     "text": [
      "[Parallel(n_jobs=1)]: Using backend SequentialBackend with 1 concurrent workers.\n"
     ]
    },
    {
     "name": "stdout",
     "output_type": "stream",
     "text": [
      "r2 на train: 0.9625945039983748\n",
      "r2 на test: 0.8586033886612372\n"
     ]
    },
    {
     "name": "stderr",
     "output_type": "stream",
     "text": [
      "[Parallel(n_jobs=1)]: Done 100 out of 100 | elapsed:    1.4s finished\n",
      "[Parallel(n_jobs=1)]: Using backend SequentialBackend with 1 concurrent workers.\n",
      "[Parallel(n_jobs=1)]: Done 100 out of 100 | elapsed:    0.0s finished\n",
      "[Parallel(n_jobs=1)]: Using backend SequentialBackend with 1 concurrent workers.\n",
      "[Parallel(n_jobs=1)]: Done 100 out of 100 | elapsed:    0.0s finished\n",
      "[Parallel(n_jobs=1)]: Using backend SequentialBackend with 1 concurrent workers.\n",
      "[Parallel(n_jobs=1)]: Done 100 out of 100 | elapsed:    0.0s finished\n"
     ]
    },
    {
     "data": {
      "image/png": "[encoded data removed]",
      "text/plain": [
       "<Figure size 432x288 with 1 Axes>"
      ]
     },
     "metadata": {
      "needs_background": "light"
     },
     "output_type": "display_data"
    }
   ],
   "source": [
    "df = preprocess_outlier(df, feature_name, threshold=3)\n",
    "\n",
    "\n",
    "bill_amt1_predictor, df = imputer_rfr(df, feature_name)\n",
    "df[feature_name].hist();"
   ]
  },
  {
   "cell_type": "code",
   "execution_count": 34,
   "metadata": {},
   "outputs": [
    {
     "data": {
      "image/png": "[encoded data removed]",
      "text/plain": [
       "<Figure size 432x288 with 1 Axes>"
      ]
     },
     "metadata": {
      "needs_background": "light"
     },
     "output_type": "display_data"
    }
   ],
   "source": [
    "feature_name = 'Current Loan Amount'\n",
    "df[feature_name].hist();"
   ]
  },
  {
   "cell_type": "raw",
   "metadata": {},
   "source": [
    "df = preprocess_outlier(df, feature_name, threshold=0.5)\n",
    "\n",
    "bill_amt1_predictor, df = imputer_rfr(df, feature_name)\n",
    "df[feature_name].hist();"
   ]
  },
  {
   "cell_type": "code",
   "execution_count": 35,
   "metadata": {},
   "outputs": [
    {
     "data": {
      "image/png": "[encoded data removed]",
      "text/plain": [
       "<Figure size 432x288 with 1 Axes>"
      ]
     },
     "metadata": {
      "needs_background": "light"
     },
     "output_type": "display_data"
    }
   ],
   "source": [
    "feature_name = 'Current Credit Balance'\n",
    "df[feature_name].hist();"
   ]
  },
  {
   "cell_type": "code",
   "execution_count": 36,
   "metadata": {},
   "outputs": [
    {
     "name": "stderr",
     "output_type": "stream",
     "text": [
      "[Parallel(n_jobs=1)]: Using backend SequentialBackend with 1 concurrent workers.\n",
      "[Parallel(n_jobs=1)]: Done 100 out of 100 | elapsed:    1.7s finished\n",
      "[Parallel(n_jobs=1)]: Using backend SequentialBackend with 1 concurrent workers.\n",
      "[Parallel(n_jobs=1)]: Done 100 out of 100 | elapsed:    0.0s finished\n",
      "[Parallel(n_jobs=1)]: Using backend SequentialBackend with 1 concurrent workers.\n",
      "[Parallel(n_jobs=1)]: Done 100 out of 100 | elapsed:    0.0s finished\n",
      "[Parallel(n_jobs=1)]: Using backend SequentialBackend with 1 concurrent workers.\n",
      "[Parallel(n_jobs=1)]: Done 100 out of 100 | elapsed:    0.0s finished\n"
     ]
    },
    {
     "name": "stdout",
     "output_type": "stream",
     "text": [
      "r2 на train: 0.871384682569101\n",
      "r2 на test: 0.7066836030922281\n"
     ]
    },
    {
     "data": {
      "image/png": "[encoded data removed]",
      "text/plain": [
       "<Figure size 432x288 with 1 Axes>"
      ]
     },
     "metadata": {
      "needs_background": "light"
     },
     "output_type": "display_data"
    }
   ],
   "source": [
    "df = preprocess_outlier(df, feature_name, threshold=3)\n",
    "\n",
    "bill_amt1_predictor, df = imputer_rfr(df, feature_name)\n",
    "df[feature_name].hist();"
   ]
  },
  {
   "cell_type": "code",
   "execution_count": 37,
   "metadata": {},
   "outputs": [
    {
     "data": {
      "image/png": "[encoded data removed]",
      "text/plain": [
       "<Figure size 432x288 with 1 Axes>"
      ]
     },
     "metadata": {
      "needs_background": "light"
     },
     "output_type": "display_data"
    }
   ],
   "source": [
    "feature_name = 'Monthly Debt'\n",
    "df[feature_name].hist();"
   ]
  },
  {
   "cell_type": "code",
   "execution_count": 38,
   "metadata": {},
   "outputs": [
    {
     "name": "stderr",
     "output_type": "stream",
     "text": [
      "[Parallel(n_jobs=1)]: Using backend SequentialBackend with 1 concurrent workers.\n",
      "[Parallel(n_jobs=1)]: Done 100 out of 100 | elapsed:    1.7s finished\n",
      "[Parallel(n_jobs=1)]: Using backend SequentialBackend with 1 concurrent workers.\n",
      "[Parallel(n_jobs=1)]: Done 100 out of 100 | elapsed:    0.0s finished\n",
      "[Parallel(n_jobs=1)]: Using backend SequentialBackend with 1 concurrent workers.\n",
      "[Parallel(n_jobs=1)]: Done 100 out of 100 | elapsed:    0.0s finished\n",
      "[Parallel(n_jobs=1)]: Using backend SequentialBackend with 1 concurrent workers.\n",
      "[Parallel(n_jobs=1)]: Done 100 out of 100 | elapsed:    0.0s finished\n"
     ]
    },
    {
     "name": "stdout",
     "output_type": "stream",
     "text": [
      "r2 на train: 0.7379192803739121\n",
      "r2 на test: 0.49336993716464095\n"
     ]
    },
    {
     "data": {
      "image/png": "[encoded data removed]",
      "text/plain": [
       "<Figure size 432x288 with 1 Axes>"
      ]
     },
     "metadata": {
      "needs_background": "light"
     },
     "output_type": "display_data"
    }
   ],
   "source": [
    "df = preprocess_outlier(df, feature_name, threshold=3)\n",
    "\n",
    "bill_amt1_predictor, df = imputer_rfr(df, feature_name)\n",
    "df[feature_name].hist();"
   ]
  },
  {
   "cell_type": "code",
   "execution_count": 39,
   "metadata": {},
   "outputs": [
    {
     "data": {
      "image/png": "[encoded data removed]",
      "text/plain": [
       "<Figure size 432x288 with 1 Axes>"
      ]
     },
     "metadata": {
      "needs_background": "light"
     },
     "output_type": "display_data"
    }
   ],
   "source": [
    "feature_name = 'Credit Score'\n",
    "df[feature_name].hist();"
   ]
  },
  {
   "cell_type": "code",
   "execution_count": 40,
   "metadata": {},
   "outputs": [
    {
     "name": "stderr",
     "output_type": "stream",
     "text": [
      "[Parallel(n_jobs=1)]: Using backend SequentialBackend with 1 concurrent workers.\n",
      "[Parallel(n_jobs=1)]: Done 100 out of 100 | elapsed:    1.5s finished\n",
      "[Parallel(n_jobs=1)]: Using backend SequentialBackend with 1 concurrent workers.\n",
      "[Parallel(n_jobs=1)]: Done 100 out of 100 | elapsed:    0.0s finished\n",
      "[Parallel(n_jobs=1)]: Using backend SequentialBackend with 1 concurrent workers.\n",
      "[Parallel(n_jobs=1)]: Done 100 out of 100 | elapsed:    0.0s finished\n",
      "[Parallel(n_jobs=1)]: Using backend SequentialBackend with 1 concurrent workers.\n",
      "[Parallel(n_jobs=1)]: Done 100 out of 100 | elapsed:    0.0s finished\n"
     ]
    },
    {
     "name": "stdout",
     "output_type": "stream",
     "text": [
      "r2 на train: 0.9933904647722328\n",
      "r2 на test: 0.9875705365082313\n"
     ]
    },
    {
     "data": {
      "image/png": "[encoded data removed]",
      "text/plain": [
       "<Figure size 432x288 with 1 Axes>"
      ]
     },
     "metadata": {
      "needs_background": "light"
     },
     "output_type": "display_data"
    }
   ],
   "source": [
    "df = preprocess_outlier(df, feature_name, threshold=1)\n",
    "\n",
    "bill_amt1_predictor, df = imputer_rfr(df, feature_name)\n",
    "df[feature_name].hist();"
   ]
  },
  {
   "cell_type": "code",
   "execution_count": 41,
   "metadata": {},
   "outputs": [
    {
     "data": {
      "text/html": [
       "<div>\n",
       "<style scoped>\n",
       "    .dataframe tbody tr th:only-of-type {\n",
       "        vertical-align: middle;\n",
       "    }\n",
       "\n",
       "    .dataframe tbody tr th {\n",
       "        vertical-align: top;\n",
       "    }\n",
       "\n",
       "    .dataframe thead th {\n",
       "        text-align: right;\n",
       "    }\n",
       "</style>\n",
       "<table border=\"1\" class=\"dataframe\">\n",
       "  <thead>\n",
       "    <tr style=\"text-align: right;\">\n",
       "      <th></th>\n",
       "      <th>Home Ownership</th>\n",
       "      <th>Annual Income</th>\n",
       "      <th>Years in current job</th>\n",
       "      <th>Tax Liens</th>\n",
       "      <th>Number of Open Accounts</th>\n",
       "      <th>Years of Credit History</th>\n",
       "      <th>Maximum Open Credit</th>\n",
       "      <th>Number of Credit Problems</th>\n",
       "      <th>Months since last delinquent</th>\n",
       "      <th>Bankruptcies</th>\n",
       "      <th>Purpose</th>\n",
       "      <th>Term</th>\n",
       "      <th>Current Loan Amount</th>\n",
       "      <th>Current Credit Balance</th>\n",
       "      <th>Monthly Debt</th>\n",
       "      <th>Credit Score</th>\n",
       "      <th>Credit Default</th>\n",
       "    </tr>\n",
       "  </thead>\n",
       "  <tbody>\n",
       "    <tr>\n",
       "      <th>0</th>\n",
       "      <td>2.0</td>\n",
       "      <td>-1.046183</td>\n",
       "      <td>-1.0</td>\n",
       "      <td>0.0</td>\n",
       "      <td>-0.026674</td>\n",
       "      <td>1.133645</td>\n",
       "      <td>-0.016174</td>\n",
       "      <td>1.664779</td>\n",
       "      <td>9.241576e-17</td>\n",
       "      <td>2.542995</td>\n",
       "      <td>1.0</td>\n",
       "      <td>0.0</td>\n",
       "      <td>2.760520</td>\n",
       "      <td>-0.762772</td>\n",
       "      <td>-0.872085</td>\n",
       "      <td>-0.250629</td>\n",
       "      <td>0</td>\n",
       "    </tr>\n",
       "    <tr>\n",
       "      <th>1</th>\n",
       "      <td>2.0</td>\n",
       "      <td>-0.403310</td>\n",
       "      <td>10.0</td>\n",
       "      <td>0.0</td>\n",
       "      <td>0.788223</td>\n",
       "      <td>-0.428528</td>\n",
       "      <td>0.014763</td>\n",
       "      <td>-0.340979</td>\n",
       "      <td>9.241576e-17</td>\n",
       "      <td>-0.337450</td>\n",
       "      <td>1.0</td>\n",
       "      <td>1.0</td>\n",
       "      <td>-0.363620</td>\n",
       "      <td>0.330781</td>\n",
       "      <td>0.004909</td>\n",
       "      <td>-0.258108</td>\n",
       "      <td>1</td>\n",
       "    </tr>\n",
       "    <tr>\n",
       "      <th>2</th>\n",
       "      <td>0.0</td>\n",
       "      <td>-0.727556</td>\n",
       "      <td>8.0</td>\n",
       "      <td>0.0</td>\n",
       "      <td>-0.026674</td>\n",
       "      <td>2.369181</td>\n",
       "      <td>0.014807</td>\n",
       "      <td>-0.340979</td>\n",
       "      <td>9.241576e-17</td>\n",
       "      <td>-0.337450</td>\n",
       "      <td>1.0</td>\n",
       "      <td>0.0</td>\n",
       "      <td>2.760520</td>\n",
       "      <td>0.058379</td>\n",
       "      <td>-0.391034</td>\n",
       "      <td>-0.254992</td>\n",
       "      <td>0</td>\n",
       "    </tr>\n",
       "    <tr>\n",
       "      <th>3</th>\n",
       "      <td>2.0</td>\n",
       "      <td>-0.664078</td>\n",
       "      <td>6.0</td>\n",
       "      <td>0.0</td>\n",
       "      <td>-0.637847</td>\n",
       "      <td>0.593985</td>\n",
       "      <td>-0.049781</td>\n",
       "      <td>1.664779</td>\n",
       "      <td>9.241576e-17</td>\n",
       "      <td>2.542995</td>\n",
       "      <td>1.0</td>\n",
       "      <td>0.0</td>\n",
       "      <td>-0.368118</td>\n",
       "      <td>-0.610282</td>\n",
       "      <td>-0.584980</td>\n",
       "      <td>-0.284911</td>\n",
       "      <td>0</td>\n",
       "    </tr>\n",
       "    <tr>\n",
       "      <th>4</th>\n",
       "      <td>1.0</td>\n",
       "      <td>-0.698155</td>\n",
       "      <td>8.0</td>\n",
       "      <td>0.0</td>\n",
       "      <td>0.380774</td>\n",
       "      <td>-0.669954</td>\n",
       "      <td>-0.034902</td>\n",
       "      <td>1.664779</td>\n",
       "      <td>9.241576e-17</td>\n",
       "      <td>-0.337450</td>\n",
       "      <td>1.0</td>\n",
       "      <td>0.0</td>\n",
       "      <td>-0.367978</td>\n",
       "      <td>-0.618292</td>\n",
       "      <td>-0.933631</td>\n",
       "      <td>-0.269328</td>\n",
       "      <td>0</td>\n",
       "    </tr>\n",
       "  </tbody>\n",
       "</table>\n",
       "</div>"
      ],
      "text/plain": [
       "   Home Ownership  Annual Income  Years in current job  Tax Liens  \\\n",
       "0             2.0      -1.046183                  -1.0        0.0   \n",
       "1             2.0      -0.403310                  10.0        0.0   \n",
       "2             0.0      -0.727556                   8.0        0.0   \n",
       "3             2.0      -0.664078                   6.0        0.0   \n",
       "4             1.0      -0.698155                   8.0        0.0   \n",
       "\n",
       "   Number of Open Accounts  Years of Credit History  Maximum Open Credit  \\\n",
       "0                -0.026674                 1.133645            -0.016174   \n",
       "1                 0.788223                -0.428528             0.014763   \n",
       "2                -0.026674                 2.369181             0.014807   \n",
       "3                -0.637847                 0.593985            -0.049781   \n",
       "4                 0.380774                -0.669954            -0.034902   \n",
       "\n",
       "   Number of Credit Problems  Months since last delinquent  Bankruptcies  \\\n",
       "0                   1.664779                  9.241576e-17      2.542995   \n",
       "1                  -0.340979                  9.241576e-17     -0.337450   \n",
       "2                  -0.340979                  9.241576e-17     -0.337450   \n",
       "3                   1.664779                  9.241576e-17      2.542995   \n",
       "4                   1.664779                  9.241576e-17     -0.337450   \n",
       "\n",
       "   Purpose  Term  Current Loan Amount  Current Credit Balance  Monthly Debt  \\\n",
       "0      1.0   0.0             2.760520               -0.762772     -0.872085   \n",
       "1      1.0   1.0            -0.363620                0.330781      0.004909   \n",
       "2      1.0   0.0             2.760520                0.058379     -0.391034   \n",
       "3      1.0   0.0            -0.368118               -0.610282     -0.584980   \n",
       "4      1.0   0.0            -0.367978               -0.618292     -0.933631   \n",
       "\n",
       "   Credit Score  Credit Default  \n",
       "0     -0.250629               0  \n",
       "1     -0.258108               1  \n",
       "2     -0.254992               0  \n",
       "3     -0.284911               0  \n",
       "4     -0.269328               0  "
      ]
     },
     "execution_count": 41,
     "metadata": {},
     "output_type": "execute_result"
    }
   ],
   "source": [
    "df.head()"
   ]
  },
  {
   "cell_type": "code",
   "execution_count": null,
   "metadata": {},
   "outputs": [],
   "source": []
  },
  {
   "cell_type": "code",
   "execution_count": 42,
   "metadata": {},
   "outputs": [
    {
     "data": {
      "text/plain": [
       "0    0.718286\n",
       "1    0.281714\n",
       "Name: Credit Default, dtype: float64"
      ]
     },
     "metadata": {},
     "output_type": "display_data"
    },
    {
     "data": {
      "text/plain": [
       "0    0.718222\n",
       "1    0.281778\n",
       "Name: Credit Default, dtype: float64"
      ]
     },
     "metadata": {},
     "output_type": "display_data"
    }
   ],
   "source": [
    "X = df[SELECTED_FEATURE_NAMES]\n",
    "y = df[TARGET_NAME]\n",
    "\n",
    "X_train, X_test, y_train, y_test = train_test_split(X, y, \n",
    "                                                    shuffle=True,\n",
    "                                                    test_size=0.3,\n",
    "                                                    random_state=21,\n",
    "                                                    stratify=y\n",
    "                                                   )\n",
    "\n",
    "display(y_train.value_counts(normalize=True), y_test.value_counts(normalize=True))"
   ]
  },
  {
   "cell_type": "code",
   "execution_count": 43,
   "metadata": {},
   "outputs": [],
   "source": [
    "train = pd.concat([X_train, y_train], axis=1)\n",
    "test = pd.concat([X_test, y_test], axis=1)"
   ]
  },
  {
   "cell_type": "code",
   "execution_count": 44,
   "metadata": {},
   "outputs": [
    {
     "name": "stdout",
     "output_type": "stream",
     "text": [
      "TRAIN\n",
      "\n",
      "              precision    recall  f1-score   support\n",
      "\n",
      "           0       0.74      0.95      0.84      3771\n",
      "           1       0.58      0.16      0.25      1479\n",
      "\n",
      "    accuracy                           0.73      5250\n",
      "   macro avg       0.66      0.56      0.54      5250\n",
      "weighted avg       0.70      0.73      0.67      5250\n",
      "\n",
      "TEST\n",
      "\n",
      "              precision    recall  f1-score   support\n",
      "\n",
      "           0       0.73      0.93      0.82      1616\n",
      "           1       0.44      0.13      0.21       634\n",
      "\n",
      "    accuracy                           0.71      2250\n",
      "   macro avg       0.59      0.53      0.51      2250\n",
      "weighted avg       0.65      0.71      0.65      2250\n",
      "\n",
      "CONFUSION MATRIX\n",
      "\n",
      "col_0              0    1\n",
      "Credit Default           \n",
      "0               1509  107\n",
      "1                549   85\n"
     ]
    }
   ],
   "source": [
    "#Логистическая регрессия\n",
    "model_lr = LogisticRegression()\n",
    "model_lr.fit(X_train, y_train)\n",
    "\n",
    "evaluate_preds(model_lr, X_train, X_test, y_train, y_test)"
   ]
  },
  {
   "cell_type": "markdown",
   "metadata": {},
   "source": [
    "KNN ближайших соседей"
   ]
  },
  {
   "cell_type": "code",
   "execution_count": 45,
   "metadata": {},
   "outputs": [
    {
     "name": "stdout",
     "output_type": "stream",
     "text": [
      "TRAIN\n",
      "\n",
      "              precision    recall  f1-score   support\n",
      "\n",
      "           0       0.80      0.93      0.86      3771\n",
      "           1       0.69      0.43      0.53      1479\n",
      "\n",
      "    accuracy                           0.79      5250\n",
      "   macro avg       0.75      0.68      0.69      5250\n",
      "weighted avg       0.77      0.79      0.77      5250\n",
      "\n",
      "TEST\n",
      "\n",
      "              precision    recall  f1-score   support\n",
      "\n",
      "           0       0.73      0.86      0.79      1616\n",
      "           1       0.37      0.21      0.27       634\n",
      "\n",
      "    accuracy                           0.68      2250\n",
      "   macro avg       0.55      0.53      0.53      2250\n",
      "weighted avg       0.63      0.68      0.64      2250\n",
      "\n",
      "CONFUSION MATRIX\n",
      "\n",
      "col_0              0    1\n",
      "Credit Default           \n",
      "0               1386  230\n",
      "1                500  134\n"
     ]
    }
   ],
   "source": [
    "model_knn = KNeighborsClassifier()\n",
    "model_knn.fit(X_train, y_train)\n",
    "\n",
    "evaluate_preds(model_knn, X_train, X_test, y_train, y_test)"
   ]
  },
  {
   "cell_type": "markdown",
   "metadata": {},
   "source": [
    "Дерево решений"
   ]
  },
  {
   "cell_type": "code",
   "execution_count": 46,
   "metadata": {},
   "outputs": [
    {
     "name": "stdout",
     "output_type": "stream",
     "text": [
      "TRAIN\n",
      "\n",
      "              precision    recall  f1-score   support\n",
      "\n",
      "           0       0.95      0.27      0.42      3771\n",
      "           1       0.34      0.97      0.51      1479\n",
      "\n",
      "    accuracy                           0.47      5250\n",
      "   macro avg       0.65      0.62      0.46      5250\n",
      "weighted avg       0.78      0.47      0.45      5250\n",
      "\n",
      "TEST\n",
      "\n",
      "              precision    recall  f1-score   support\n",
      "\n",
      "           0       0.93      0.28      0.43      1616\n",
      "           1       0.34      0.95      0.50       634\n",
      "\n",
      "    accuracy                           0.47      2250\n",
      "   macro avg       0.64      0.61      0.46      2250\n",
      "weighted avg       0.76      0.47      0.45      2250\n",
      "\n",
      "CONFUSION MATRIX\n",
      "\n",
      "col_0             0     1\n",
      "Credit Default           \n",
      "0               446  1170\n",
      "1                33   601\n"
     ]
    }
   ],
   "source": [
    "model_tree = DecisionTreeClassifier(random_state=21,\n",
    "                                    class_weight={0:1, 1:3.6},\n",
    "                                    \n",
    "                                    max_depth=4\n",
    "                                    )\n",
    "model_tree.fit(X_train, y_train)\n",
    "\n",
    "evaluate_preds(model_tree, X_train, X_test, y_train, y_test)"
   ]
  },
  {
   "cell_type": "markdown",
   "metadata": {},
   "source": [
    "XGBoost"
   ]
  },
  {
   "cell_type": "code",
   "execution_count": 47,
   "metadata": {},
   "outputs": [
    {
     "name": "stdout",
     "output_type": "stream",
     "text": [
      "[13:04:31] WARNING: C:/Users/Administrator/workspace/xgboost-win64_release_1.3.0/src/learner.cc:1061: Starting in XGBoost 1.3.0, the default evaluation metric used with the objective 'binary:logistic' was changed from 'error' to 'logloss'. Explicitly set eval_metric if you'd like to restore the old behavior.\n",
      "TRAIN\n",
      "\n",
      "              precision    recall  f1-score   support\n",
      "\n",
      "           0       0.96      1.00      0.98      3771\n",
      "           1       0.99      0.88      0.93      1479\n",
      "\n",
      "    accuracy                           0.97      5250\n",
      "   macro avg       0.97      0.94      0.96      5250\n",
      "weighted avg       0.97      0.97      0.96      5250\n",
      "\n",
      "TEST\n",
      "\n",
      "              precision    recall  f1-score   support\n",
      "\n",
      "           0       0.76      0.88      0.82      1616\n",
      "           1       0.49      0.29      0.36       634\n",
      "\n",
      "    accuracy                           0.71      2250\n",
      "   macro avg       0.62      0.58      0.59      2250\n",
      "weighted avg       0.68      0.71      0.69      2250\n",
      "\n",
      "CONFUSION MATRIX\n",
      "\n",
      "col_0              0    1\n",
      "Credit Default           \n",
      "0               1425  191\n",
      "1                452  182\n",
      "Wall time: 469 ms\n"
     ]
    }
   ],
   "source": [
    "%%time\n",
    "model_xgb = xgb.XGBClassifier(random_state=21,\n",
    "#                               n_estimators=100\n",
    "                             )\n",
    "model_xgb.fit(X_train, y_train)\n",
    "\n",
    "evaluate_preds(model_xgb, X_train, X_test, y_train, y_test)"
   ]
  },
  {
   "cell_type": "markdown",
   "metadata": {},
   "source": [
    "LightGBM"
   ]
  },
  {
   "cell_type": "code",
   "execution_count": 48,
   "metadata": {},
   "outputs": [
    {
     "name": "stdout",
     "output_type": "stream",
     "text": [
      "[LightGBM] [Warning] Accuracy may be bad since you didn't explicitly set num_leaves OR 2^max_depth > num_leaves. (num_leaves=31).\n",
      "TRAIN\n",
      "\n",
      "              precision    recall  f1-score   support\n",
      "\n",
      "           0       0.98      0.78      0.87      3771\n",
      "           1       0.63      0.96      0.76      1479\n",
      "\n",
      "    accuracy                           0.83      5250\n",
      "   macro avg       0.81      0.87      0.82      5250\n",
      "weighted avg       0.88      0.83      0.84      5250\n",
      "\n",
      "TEST\n",
      "\n",
      "              precision    recall  f1-score   support\n",
      "\n",
      "           0       0.81      0.64      0.72      1616\n",
      "           1       0.41      0.62      0.49       634\n",
      "\n",
      "    accuracy                           0.64      2250\n",
      "   macro avg       0.61      0.63      0.61      2250\n",
      "weighted avg       0.70      0.64      0.66      2250\n",
      "\n",
      "CONFUSION MATRIX\n",
      "\n",
      "col_0              0    1\n",
      "Credit Default           \n",
      "0               1041  575\n",
      "1                239  395\n",
      "Wall time: 204 ms\n"
     ]
    }
   ],
   "source": [
    "%%time\n",
    "model_lgbm = lgbm.LGBMClassifier(random_state=21, \n",
    "                                 class_weight={0:1.3, 1:4},\n",
    "                                 categorical_feature  = [-4, -3,-2,-1],\n",
    "                                 max_depth = 7,\n",
    "                                 \n",
    "#                                  n_estimators=100\n",
    "                                )\n",
    "model_lgbm.fit(X_train, y_train)\n",
    "\n",
    "evaluate_preds(model_lgbm, X_train, X_test, y_train, y_test)"
   ]
  },
  {
   "cell_type": "markdown",
   "metadata": {},
   "source": [
    "CatBoost"
   ]
  },
  {
   "cell_type": "code",
   "execution_count": 49,
   "metadata": {},
   "outputs": [
    {
     "name": "stdout",
     "output_type": "stream",
     "text": [
      "TRAIN\n",
      "\n",
      "              precision    recall  f1-score   support\n",
      "\n",
      "           0       0.85      0.99      0.92      3771\n",
      "           1       0.96      0.56      0.71      1479\n",
      "\n",
      "    accuracy                           0.87      5250\n",
      "   macro avg       0.90      0.78      0.81      5250\n",
      "weighted avg       0.88      0.87      0.86      5250\n",
      "\n",
      "TEST\n",
      "\n",
      "              precision    recall  f1-score   support\n",
      "\n",
      "           0       0.75      0.92      0.83      1616\n",
      "           1       0.53      0.23      0.32       634\n",
      "\n",
      "    accuracy                           0.73      2250\n",
      "   macro avg       0.64      0.57      0.57      2250\n",
      "weighted avg       0.69      0.73      0.68      2250\n",
      "\n",
      "CONFUSION MATRIX\n",
      "\n",
      "col_0              0    1\n",
      "Credit Default           \n",
      "0               1488  128\n",
      "1                490  144\n",
      "Wall time: 3.74 s\n"
     ]
    }
   ],
   "source": [
    "%%time\n",
    "model_catb = catb.CatBoostClassifier(silent=True, random_state=21)\n",
    "model_catb.fit(X_train, y_train)\n",
    "\n",
    "evaluate_preds(model_catb, X_train, X_test, y_train, y_test)"
   ]
  },
  {
   "cell_type": "markdown",
   "metadata": {},
   "source": [
    "Балансировка целевой переменной"
   ]
  },
  {
   "cell_type": "code",
   "execution_count": 50,
   "metadata": {},
   "outputs": [],
   "source": [
    "import inspect"
   ]
  },
  {
   "cell_type": "code",
   "execution_count": 51,
   "metadata": {},
   "outputs": [],
   "source": [
    "def init_models():\n",
    "    model_lr = LogisticRegression(random_state=21)\n",
    "    model_knn = KNeighborsClassifier()\n",
    "    model_tree = DecisionTreeClassifier(random_state=21)\n",
    "    model_xgb = xgb.XGBClassifier(random_state=21)\n",
    "    model_lgbm = lgbm.LGBMClassifier(random_state=21, max_depth = 6, class_weight={0:1.4, 1:3})\n",
    "    model_catb = catb.CatBoostClassifier(silent=True, random_state=21)\n",
    "\n",
    "    models = {\n",
    "        'lr': model_lr,\n",
    "        'knn': model_knn,\n",
    "        'tree': model_tree,\n",
    "        'xgb': model_xgb,\n",
    "        'lgbm': model_lgbm,\n",
    "        'cat': model_catb\n",
    "    }\n",
    "    return models\n",
    "\n",
    "\n",
    "                           "
   ]
  },
  {
   "cell_type": "code",
   "execution_count": 52,
   "metadata": {},
   "outputs": [],
   "source": [
    "def show_feature_importances(feature_names, feature_importances, get_top=None):\n",
    "    feature_importances = pd.DataFrame({'feature': feature_names, 'importance': feature_importances})\n",
    "    feature_importances = feature_importances.sort_values('importance', ascending=False)\n",
    "       \n",
    "    plt.figure(figsize = (20, len(feature_importances) * 0.355))\n",
    "    \n",
    "    sns.barplot(feature_importances['importance'], feature_importances['feature'])\n",
    "    \n",
    "    plt.xlabel('Importance')\n",
    "    plt.title('Importance of features')\n",
    "    plt.show()\n",
    "    \n",
    "    if get_top is not None:\n",
    "        return feature_importances['feature'][:get_top].tolist()"
   ]
  },
  {
   "cell_type": "code",
   "execution_count": null,
   "metadata": {},
   "outputs": [],
   "source": []
  },
  {
   "cell_type": "code",
   "execution_count": 53,
   "metadata": {},
   "outputs": [],
   "source": [
    "def get_metrics(report):\n",
    "    f1_macro = report['macro avg']['f1-score']\n",
    "    f1_0 = report['0']['f1-score']\n",
    "    f1_1 = report['1']['f1-score']\n",
    "    return f1_macro, f1_0, f1_1"
   ]
  },
  {
   "cell_type": "code",
   "execution_count": 54,
   "metadata": {},
   "outputs": [],
   "source": [
    "def run_experiment(X_train, X_test, y_train, y_test, method='not'):\n",
    "    assert method in ['not', 'over', 'under', 'tomek', 'smote'], 'Неправильный метод сэмплирования'\n",
    "    \n",
    "    models = init_models()\n",
    "    \n",
    "    stata = pd.DataFrame()\n",
    "    for name, model in models.items():\n",
    "        model.fit(X_train, y_train)\n",
    "        pred_train = model.predict(X_train)\n",
    "        pred_test = model.predict(X_test)\n",
    "\n",
    "        report_train = classification_report(y_train, pred_train, output_dict=True)\n",
    "        report_test = classification_report(y_test, pred_test, output_dict=True)\n",
    "        f1_macro_train, f1_0_train, f1_1_train = get_metrics(report_train)\n",
    "        f1_macro_test, f1_0_test, f1_1_test = get_metrics(report_test)\n",
    "\n",
    "        stata = stata.append({\n",
    "            'model_name': name,\n",
    "            f'f1_macro_train_{method}': f1_macro_train,\n",
    "            f'f1_macro_test_{method}': f1_macro_test,\n",
    "            f'f1_0_train_{method}': f1_0_train,\n",
    "            f'f1_0_test_{method}': f1_0_test,\n",
    "            f'f1_1_train_{method}': f1_1_train,\n",
    "            f'f1_1_test_{method}': f1_1_test\n",
    "        }, ignore_index=True)\n",
    "    return stata, models"
   ]
  },
  {
   "cell_type": "code",
   "execution_count": 55,
   "metadata": {},
   "outputs": [],
   "source": [
    "#df = pd.read_csv(TRAIN_PATH)\n",
    "df[NUM_FEATURE_NAMES] = scaler.transform(df[NUM_FEATURE_NAMES])\n",
    "\n",
    "X = df[SELECTED_FEATURE_NAMES]\n",
    "y = df[TARGET_NAME]\n",
    "\n",
    "X_train, X_test, y_train, y_test = train_test_split(X, y,\n",
    "                                                    shuffle=True,\n",
    "                                                    test_size=0.3,\n",
    "                                                    random_state=21,\n",
    "                                                    stratify=y)"
   ]
  },
  {
   "cell_type": "code",
   "execution_count": 56,
   "metadata": {},
   "outputs": [
    {
     "name": "stdout",
     "output_type": "stream",
     "text": [
      "[13:04:36] WARNING: C:/Users/Administrator/workspace/xgboost-win64_release_1.3.0/src/learner.cc:1061: Starting in XGBoost 1.3.0, the default evaluation metric used with the objective 'binary:logistic' was changed from 'error' to 'logloss'. Explicitly set eval_metric if you'd like to restore the old behavior.\n",
      "[LightGBM] [Warning] Accuracy may be bad since you didn't explicitly set num_leaves OR 2^max_depth > num_leaves. (num_leaves=31).\n",
      "Wall time: 5.74 s\n"
     ]
    },
    {
     "data": {
      "text/html": [
       "<div>\n",
       "<style scoped>\n",
       "    .dataframe tbody tr th:only-of-type {\n",
       "        vertical-align: middle;\n",
       "    }\n",
       "\n",
       "    .dataframe tbody tr th {\n",
       "        vertical-align: top;\n",
       "    }\n",
       "\n",
       "    .dataframe thead th {\n",
       "        text-align: right;\n",
       "    }\n",
       "</style>\n",
       "<table border=\"1\" class=\"dataframe\">\n",
       "  <thead>\n",
       "    <tr style=\"text-align: right;\">\n",
       "      <th></th>\n",
       "      <th>f1_0_test_not</th>\n",
       "      <th>f1_0_train_not</th>\n",
       "      <th>f1_1_test_not</th>\n",
       "      <th>f1_1_train_not</th>\n",
       "      <th>f1_macro_test_not</th>\n",
       "      <th>f1_macro_train_not</th>\n",
       "      <th>model_name</th>\n",
       "    </tr>\n",
       "  </thead>\n",
       "  <tbody>\n",
       "    <tr>\n",
       "      <th>0</th>\n",
       "      <td>0.830089</td>\n",
       "      <td>0.833876</td>\n",
       "      <td>0.074499</td>\n",
       "      <td>0.073889</td>\n",
       "      <td>0.452294</td>\n",
       "      <td>0.453882</td>\n",
       "      <td>lr</td>\n",
       "    </tr>\n",
       "    <tr>\n",
       "      <th>1</th>\n",
       "      <td>0.796155</td>\n",
       "      <td>0.853703</td>\n",
       "      <td>0.251298</td>\n",
       "      <td>0.471673</td>\n",
       "      <td>0.523726</td>\n",
       "      <td>0.662688</td>\n",
       "      <td>knn</td>\n",
       "    </tr>\n",
       "    <tr>\n",
       "      <th>2</th>\n",
       "      <td>0.734707</td>\n",
       "      <td>1.000000</td>\n",
       "      <td>0.344136</td>\n",
       "      <td>1.000000</td>\n",
       "      <td>0.539421</td>\n",
       "      <td>1.000000</td>\n",
       "      <td>tree</td>\n",
       "    </tr>\n",
       "    <tr>\n",
       "      <th>3</th>\n",
       "      <td>0.806081</td>\n",
       "      <td>0.964585</td>\n",
       "      <td>0.333333</td>\n",
       "      <td>0.899452</td>\n",
       "      <td>0.569707</td>\n",
       "      <td>0.932018</td>\n",
       "      <td>xgb</td>\n",
       "    </tr>\n",
       "    <tr>\n",
       "      <th>4</th>\n",
       "      <td>0.764117</td>\n",
       "      <td>0.896763</td>\n",
       "      <td>0.478230</td>\n",
       "      <td>0.775053</td>\n",
       "      <td>0.621174</td>\n",
       "      <td>0.835908</td>\n",
       "      <td>lgbm</td>\n",
       "    </tr>\n",
       "    <tr>\n",
       "      <th>5</th>\n",
       "      <td>0.823006</td>\n",
       "      <td>0.903680</td>\n",
       "      <td>0.293008</td>\n",
       "      <td>0.650199</td>\n",
       "      <td>0.558007</td>\n",
       "      <td>0.776939</td>\n",
       "      <td>cat</td>\n",
       "    </tr>\n",
       "  </tbody>\n",
       "</table>\n",
       "</div>"
      ],
      "text/plain": [
       "   f1_0_test_not  f1_0_train_not  f1_1_test_not  f1_1_train_not  \\\n",
       "0       0.830089        0.833876       0.074499        0.073889   \n",
       "1       0.796155        0.853703       0.251298        0.471673   \n",
       "2       0.734707        1.000000       0.344136        1.000000   \n",
       "3       0.806081        0.964585       0.333333        0.899452   \n",
       "4       0.764117        0.896763       0.478230        0.775053   \n",
       "5       0.823006        0.903680       0.293008        0.650199   \n",
       "\n",
       "   f1_macro_test_not  f1_macro_train_not model_name  \n",
       "0           0.452294            0.453882         lr  \n",
       "1           0.523726            0.662688        knn  \n",
       "2           0.539421            1.000000       tree  \n",
       "3           0.569707            0.932018        xgb  \n",
       "4           0.621174            0.835908       lgbm  \n",
       "5           0.558007            0.776939        cat  "
      ]
     },
     "execution_count": 56,
     "metadata": {},
     "output_type": "execute_result"
    }
   ],
   "source": [
    "%%time\n",
    "stata_not_balanced, models_not_balanced = run_experiment(X_train, X_test, y_train, y_test, method='not')\n",
    "stata_not_balanced"
   ]
  },
  {
   "cell_type": "markdown",
   "metadata": {},
   "source": [
    "Oversampling"
   ]
  },
  {
   "cell_type": "code",
   "execution_count": 57,
   "metadata": {},
   "outputs": [
    {
     "data": {
      "text/plain": [
       "0    3771\n",
       "1    2958\n",
       "Name: Credit Default, dtype: int64"
      ]
     },
     "execution_count": 57,
     "metadata": {},
     "output_type": "execute_result"
    }
   ],
   "source": [
    "df_for_balancing = pd.concat([X_train, y_train], axis=1)\n",
    "df_balanced = balance_df_by_target(df_for_balancing, TARGET_NAME, method='over')\n",
    "    \n",
    "df_balanced[TARGET_NAME].value_counts()"
   ]
  },
  {
   "cell_type": "code",
   "execution_count": 58,
   "metadata": {},
   "outputs": [],
   "source": [
    "X_train_balanced = df_balanced.drop(columns=TARGET_NAME)\n",
    "y_train_balanced = df_balanced[TARGET_NAME]"
   ]
  },
  {
   "cell_type": "code",
   "execution_count": 59,
   "metadata": {},
   "outputs": [
    {
     "name": "stdout",
     "output_type": "stream",
     "text": [
      "[13:04:42] WARNING: C:/Users/Administrator/workspace/xgboost-win64_release_1.3.0/src/learner.cc:1061: Starting in XGBoost 1.3.0, the default evaluation metric used with the objective 'binary:logistic' was changed from 'error' to 'logloss'. Explicitly set eval_metric if you'd like to restore the old behavior.\n",
      "[LightGBM] [Warning] Accuracy may be bad since you didn't explicitly set num_leaves OR 2^max_depth > num_leaves. (num_leaves=31).\n",
      "Wall time: 6.35 s\n"
     ]
    },
    {
     "data": {
      "text/html": [
       "<div>\n",
       "<style scoped>\n",
       "    .dataframe tbody tr th:only-of-type {\n",
       "        vertical-align: middle;\n",
       "    }\n",
       "\n",
       "    .dataframe tbody tr th {\n",
       "        vertical-align: top;\n",
       "    }\n",
       "\n",
       "    .dataframe thead th {\n",
       "        text-align: right;\n",
       "    }\n",
       "</style>\n",
       "<table border=\"1\" class=\"dataframe\">\n",
       "  <thead>\n",
       "    <tr style=\"text-align: right;\">\n",
       "      <th></th>\n",
       "      <th>f1_0_test_over</th>\n",
       "      <th>f1_0_train_over</th>\n",
       "      <th>f1_1_test_over</th>\n",
       "      <th>f1_1_train_over</th>\n",
       "      <th>f1_macro_test_over</th>\n",
       "      <th>f1_macro_train_over</th>\n",
       "      <th>model_name</th>\n",
       "    </tr>\n",
       "  </thead>\n",
       "  <tbody>\n",
       "    <tr>\n",
       "      <th>0</th>\n",
       "      <td>0.768807</td>\n",
       "      <td>0.693652</td>\n",
       "      <td>0.385366</td>\n",
       "      <td>0.470922</td>\n",
       "      <td>0.577087</td>\n",
       "      <td>0.582287</td>\n",
       "      <td>lr</td>\n",
       "    </tr>\n",
       "    <tr>\n",
       "      <th>1</th>\n",
       "      <td>0.737267</td>\n",
       "      <td>0.779846</td>\n",
       "      <td>0.339062</td>\n",
       "      <td>0.687174</td>\n",
       "      <td>0.538165</td>\n",
       "      <td>0.733510</td>\n",
       "      <td>knn</td>\n",
       "    </tr>\n",
       "    <tr>\n",
       "      <th>2</th>\n",
       "      <td>0.728808</td>\n",
       "      <td>1.000000</td>\n",
       "      <td>0.334612</td>\n",
       "      <td>1.000000</td>\n",
       "      <td>0.531710</td>\n",
       "      <td>1.000000</td>\n",
       "      <td>tree</td>\n",
       "    </tr>\n",
       "    <tr>\n",
       "      <th>3</th>\n",
       "      <td>0.787879</td>\n",
       "      <td>0.966003</td>\n",
       "      <td>0.416667</td>\n",
       "      <td>0.956815</td>\n",
       "      <td>0.602273</td>\n",
       "      <td>0.961409</td>\n",
       "      <td>xgb</td>\n",
       "    </tr>\n",
       "    <tr>\n",
       "      <th>4</th>\n",
       "      <td>0.660909</td>\n",
       "      <td>0.782622</td>\n",
       "      <td>0.508438</td>\n",
       "      <td>0.808279</td>\n",
       "      <td>0.584673</td>\n",
       "      <td>0.795451</td>\n",
       "      <td>lgbm</td>\n",
       "    </tr>\n",
       "    <tr>\n",
       "      <th>5</th>\n",
       "      <td>0.773384</td>\n",
       "      <td>0.887315</td>\n",
       "      <td>0.450533</td>\n",
       "      <td>0.852785</td>\n",
       "      <td>0.611958</td>\n",
       "      <td>0.870050</td>\n",
       "      <td>cat</td>\n",
       "    </tr>\n",
       "  </tbody>\n",
       "</table>\n",
       "</div>"
      ],
      "text/plain": [
       "   f1_0_test_over  f1_0_train_over  f1_1_test_over  f1_1_train_over  \\\n",
       "0        0.768807         0.693652        0.385366         0.470922   \n",
       "1        0.737267         0.779846        0.339062         0.687174   \n",
       "2        0.728808         1.000000        0.334612         1.000000   \n",
       "3        0.787879         0.966003        0.416667         0.956815   \n",
       "4        0.660909         0.782622        0.508438         0.808279   \n",
       "5        0.773384         0.887315        0.450533         0.852785   \n",
       "\n",
       "   f1_macro_test_over  f1_macro_train_over model_name  \n",
       "0            0.577087             0.582287         lr  \n",
       "1            0.538165             0.733510        knn  \n",
       "2            0.531710             1.000000       tree  \n",
       "3            0.602273             0.961409        xgb  \n",
       "4            0.584673             0.795451       lgbm  \n",
       "5            0.611958             0.870050        cat  "
      ]
     },
     "execution_count": 59,
     "metadata": {},
     "output_type": "execute_result"
    }
   ],
   "source": [
    "%%time\n",
    "stata_balanced_over, models_over = run_experiment(X_train_balanced, X_test, y_train_balanced, y_test, method='over')\n",
    "stata_balanced_over"
   ]
  },
  {
   "cell_type": "markdown",
   "metadata": {},
   "source": [
    "Undersampling"
   ]
  },
  {
   "cell_type": "code",
   "execution_count": 60,
   "metadata": {},
   "outputs": [
    {
     "data": {
      "text/plain": [
       "1    1479\n",
       "0    1479\n",
       "Name: Credit Default, dtype: int64"
      ]
     },
     "execution_count": 60,
     "metadata": {},
     "output_type": "execute_result"
    }
   ],
   "source": [
    "df_for_balancing = pd.concat([X_train, y_train], axis=1)\n",
    "df_balanced = balance_df_by_target(df_for_balancing, TARGET_NAME, method='under')\n",
    "    \n",
    "df_balanced[TARGET_NAME].value_counts()"
   ]
  },
  {
   "cell_type": "code",
   "execution_count": 61,
   "metadata": {},
   "outputs": [],
   "source": [
    "X_train_balanced_under = df_balanced.drop(columns=TARGET_NAME)\n",
    "y_train_balanced_under = df_balanced[TARGET_NAME]"
   ]
  },
  {
   "cell_type": "code",
   "execution_count": 62,
   "metadata": {},
   "outputs": [
    {
     "name": "stdout",
     "output_type": "stream",
     "text": [
      "[13:04:48] WARNING: C:/Users/Administrator/workspace/xgboost-win64_release_1.3.0/src/learner.cc:1061: Starting in XGBoost 1.3.0, the default evaluation metric used with the objective 'binary:logistic' was changed from 'error' to 'logloss'. Explicitly set eval_metric if you'd like to restore the old behavior.\n",
      "[LightGBM] [Warning] Accuracy may be bad since you didn't explicitly set num_leaves OR 2^max_depth > num_leaves. (num_leaves=31).\n",
      "Wall time: 4.81 s\n"
     ]
    },
    {
     "data": {
      "text/html": [
       "<div>\n",
       "<style scoped>\n",
       "    .dataframe tbody tr th:only-of-type {\n",
       "        vertical-align: middle;\n",
       "    }\n",
       "\n",
       "    .dataframe tbody tr th {\n",
       "        vertical-align: top;\n",
       "    }\n",
       "\n",
       "    .dataframe thead th {\n",
       "        text-align: right;\n",
       "    }\n",
       "</style>\n",
       "<table border=\"1\" class=\"dataframe\">\n",
       "  <thead>\n",
       "    <tr style=\"text-align: right;\">\n",
       "      <th></th>\n",
       "      <th>f1_0_test_under</th>\n",
       "      <th>f1_0_train_under</th>\n",
       "      <th>f1_1_test_under</th>\n",
       "      <th>f1_1_train_under</th>\n",
       "      <th>f1_macro_test_under</th>\n",
       "      <th>f1_macro_train_under</th>\n",
       "      <th>model_name</th>\n",
       "    </tr>\n",
       "  </thead>\n",
       "  <tbody>\n",
       "    <tr>\n",
       "      <th>0</th>\n",
       "      <td>0.753769</td>\n",
       "      <td>0.654493</td>\n",
       "      <td>0.404255</td>\n",
       "      <td>0.516626</td>\n",
       "      <td>0.579012</td>\n",
       "      <td>0.585559</td>\n",
       "      <td>lr</td>\n",
       "    </tr>\n",
       "    <tr>\n",
       "      <th>1</th>\n",
       "      <td>0.646024</td>\n",
       "      <td>0.724093</td>\n",
       "      <td>0.393245</td>\n",
       "      <td>0.698727</td>\n",
       "      <td>0.519634</td>\n",
       "      <td>0.711410</td>\n",
       "      <td>knn</td>\n",
       "    </tr>\n",
       "    <tr>\n",
       "      <th>2</th>\n",
       "      <td>0.619489</td>\n",
       "      <td>1.000000</td>\n",
       "      <td>0.429761</td>\n",
       "      <td>1.000000</td>\n",
       "      <td>0.524625</td>\n",
       "      <td>1.000000</td>\n",
       "      <td>tree</td>\n",
       "    </tr>\n",
       "    <tr>\n",
       "      <th>3</th>\n",
       "      <td>0.677794</td>\n",
       "      <td>0.989865</td>\n",
       "      <td>0.490826</td>\n",
       "      <td>0.989851</td>\n",
       "      <td>0.584310</td>\n",
       "      <td>0.989858</td>\n",
       "      <td>xgb</td>\n",
       "    </tr>\n",
       "    <tr>\n",
       "      <th>4</th>\n",
       "      <td>0.541720</td>\n",
       "      <td>0.800161</td>\n",
       "      <td>0.504854</td>\n",
       "      <td>0.854556</td>\n",
       "      <td>0.523287</td>\n",
       "      <td>0.827358</td>\n",
       "      <td>lgbm</td>\n",
       "    </tr>\n",
       "    <tr>\n",
       "      <th>5</th>\n",
       "      <td>0.686751</td>\n",
       "      <td>0.885324</td>\n",
       "      <td>0.505444</td>\n",
       "      <td>0.887475</td>\n",
       "      <td>0.596098</td>\n",
       "      <td>0.886400</td>\n",
       "      <td>cat</td>\n",
       "    </tr>\n",
       "  </tbody>\n",
       "</table>\n",
       "</div>"
      ],
      "text/plain": [
       "   f1_0_test_under  f1_0_train_under  f1_1_test_under  f1_1_train_under  \\\n",
       "0         0.753769          0.654493         0.404255          0.516626   \n",
       "1         0.646024          0.724093         0.393245          0.698727   \n",
       "2         0.619489          1.000000         0.429761          1.000000   \n",
       "3         0.677794          0.989865         0.490826          0.989851   \n",
       "4         0.541720          0.800161         0.504854          0.854556   \n",
       "5         0.686751          0.885324         0.505444          0.887475   \n",
       "\n",
       "   f1_macro_test_under  f1_macro_train_under model_name  \n",
       "0             0.579012              0.585559         lr  \n",
       "1             0.519634              0.711410        knn  \n",
       "2             0.524625              1.000000       tree  \n",
       "3             0.584310              0.989858        xgb  \n",
       "4             0.523287              0.827358       lgbm  \n",
       "5             0.596098              0.886400        cat  "
      ]
     },
     "execution_count": 62,
     "metadata": {},
     "output_type": "execute_result"
    }
   ],
   "source": [
    "%%time\n",
    "stata_balanced_under, models_under = run_experiment(X_train_balanced_under, X_test, y_train_balanced_under, y_test, method='under')\n",
    "stata_balanced_under"
   ]
  },
  {
   "cell_type": "markdown",
   "metadata": {},
   "source": [
    "Undersampling (Tomeklinks)"
   ]
  },
  {
   "cell_type": "code",
   "execution_count": 63,
   "metadata": {},
   "outputs": [
    {
     "data": {
      "text/plain": [
       "0    3212\n",
       "1    1479\n",
       "Name: Credit Default, dtype: int64"
      ]
     },
     "execution_count": 63,
     "metadata": {},
     "output_type": "execute_result"
    }
   ],
   "source": [
    "from imblearn.under_sampling import TomekLinks\n",
    "\n",
    "tl = TomekLinks()\n",
    "X_train_balanced, y_train_balanced = tl.fit_resample(X_train, y_train)\n",
    "\n",
    "y_train_balanced.value_counts()"
   ]
  },
  {
   "cell_type": "code",
   "execution_count": 64,
   "metadata": {},
   "outputs": [
    {
     "name": "stdout",
     "output_type": "stream",
     "text": [
      "[13:04:53] WARNING: C:/Users/Administrator/workspace/xgboost-win64_release_1.3.0/src/learner.cc:1061: Starting in XGBoost 1.3.0, the default evaluation metric used with the objective 'binary:logistic' was changed from 'error' to 'logloss'. Explicitly set eval_metric if you'd like to restore the old behavior.\n",
      "[LightGBM] [Warning] Accuracy may be bad since you didn't explicitly set num_leaves OR 2^max_depth > num_leaves. (num_leaves=31).\n",
      "Wall time: 5.06 s\n"
     ]
    },
    {
     "data": {
      "text/html": [
       "<div>\n",
       "<style scoped>\n",
       "    .dataframe tbody tr th:only-of-type {\n",
       "        vertical-align: middle;\n",
       "    }\n",
       "\n",
       "    .dataframe tbody tr th {\n",
       "        vertical-align: top;\n",
       "    }\n",
       "\n",
       "    .dataframe thead th {\n",
       "        text-align: right;\n",
       "    }\n",
       "</style>\n",
       "<table border=\"1\" class=\"dataframe\">\n",
       "  <thead>\n",
       "    <tr style=\"text-align: right;\">\n",
       "      <th></th>\n",
       "      <th>f1_0_test_tomek</th>\n",
       "      <th>f1_0_train_tomek</th>\n",
       "      <th>f1_1_test_tomek</th>\n",
       "      <th>f1_1_train_tomek</th>\n",
       "      <th>f1_macro_test_tomek</th>\n",
       "      <th>f1_macro_train_tomek</th>\n",
       "      <th>model_name</th>\n",
       "    </tr>\n",
       "  </thead>\n",
       "  <tbody>\n",
       "    <tr>\n",
       "      <th>0</th>\n",
       "      <td>0.812155</td>\n",
       "      <td>0.810133</td>\n",
       "      <td>0.227273</td>\n",
       "      <td>0.281489</td>\n",
       "      <td>0.519714</td>\n",
       "      <td>0.545811</td>\n",
       "      <td>lr</td>\n",
       "    </tr>\n",
       "    <tr>\n",
       "      <th>1</th>\n",
       "      <td>0.773964</td>\n",
       "      <td>0.852312</td>\n",
       "      <td>0.317857</td>\n",
       "      <td>0.584890</td>\n",
       "      <td>0.545911</td>\n",
       "      <td>0.718601</td>\n",
       "      <td>knn</td>\n",
       "    </tr>\n",
       "    <tr>\n",
       "      <th>2</th>\n",
       "      <td>0.720612</td>\n",
       "      <td>1.000000</td>\n",
       "      <td>0.355621</td>\n",
       "      <td>1.000000</td>\n",
       "      <td>0.538116</td>\n",
       "      <td>1.000000</td>\n",
       "      <td>tree</td>\n",
       "    </tr>\n",
       "    <tr>\n",
       "      <th>3</th>\n",
       "      <td>0.799169</td>\n",
       "      <td>0.976474</td>\n",
       "      <td>0.400354</td>\n",
       "      <td>0.945698</td>\n",
       "      <td>0.599762</td>\n",
       "      <td>0.961086</td>\n",
       "      <td>xgb</td>\n",
       "    </tr>\n",
       "    <tr>\n",
       "      <th>4</th>\n",
       "      <td>0.742434</td>\n",
       "      <td>0.881796</td>\n",
       "      <td>0.498034</td>\n",
       "      <td>0.788833</td>\n",
       "      <td>0.620234</td>\n",
       "      <td>0.835314</td>\n",
       "      <td>lgbm</td>\n",
       "    </tr>\n",
       "    <tr>\n",
       "      <th>5</th>\n",
       "      <td>0.812047</td>\n",
       "      <td>0.903002</td>\n",
       "      <td>0.380134</td>\n",
       "      <td>0.726161</td>\n",
       "      <td>0.596091</td>\n",
       "      <td>0.814582</td>\n",
       "      <td>cat</td>\n",
       "    </tr>\n",
       "  </tbody>\n",
       "</table>\n",
       "</div>"
      ],
      "text/plain": [
       "   f1_0_test_tomek  f1_0_train_tomek  f1_1_test_tomek  f1_1_train_tomek  \\\n",
       "0         0.812155          0.810133         0.227273          0.281489   \n",
       "1         0.773964          0.852312         0.317857          0.584890   \n",
       "2         0.720612          1.000000         0.355621          1.000000   \n",
       "3         0.799169          0.976474         0.400354          0.945698   \n",
       "4         0.742434          0.881796         0.498034          0.788833   \n",
       "5         0.812047          0.903002         0.380134          0.726161   \n",
       "\n",
       "   f1_macro_test_tomek  f1_macro_train_tomek model_name  \n",
       "0             0.519714              0.545811         lr  \n",
       "1             0.545911              0.718601        knn  \n",
       "2             0.538116              1.000000       tree  \n",
       "3             0.599762              0.961086        xgb  \n",
       "4             0.620234              0.835314       lgbm  \n",
       "5             0.596091              0.814582        cat  "
      ]
     },
     "execution_count": 64,
     "metadata": {},
     "output_type": "execute_result"
    }
   ],
   "source": [
    "%%time\n",
    "stata_balanced_tomek, models_tomek = run_experiment(X_train_balanced, X_test, y_train_balanced, y_test, method='tomek')\n",
    "stata_balanced_tomek"
   ]
  },
  {
   "cell_type": "markdown",
   "metadata": {},
   "source": [
    "Oversampling (SMOTE)"
   ]
  },
  {
   "cell_type": "code",
   "execution_count": 65,
   "metadata": {},
   "outputs": [
    {
     "data": {
      "text/plain": [
       "1    3771\n",
       "0    3771\n",
       "Name: Credit Default, dtype: int64"
      ]
     },
     "execution_count": 65,
     "metadata": {},
     "output_type": "execute_result"
    }
   ],
   "source": [
    "from imblearn.over_sampling import SMOTE\n",
    "\n",
    "smote = SMOTE()\n",
    "X_train_balanced, y_train_balanced = smote.fit_resample(X_train, y_train)\n",
    "\n",
    "y_train_balanced.value_counts()"
   ]
  },
  {
   "cell_type": "code",
   "execution_count": 66,
   "metadata": {},
   "outputs": [
    {
     "name": "stdout",
     "output_type": "stream",
     "text": [
      "[13:04:58] WARNING: C:/Users/Administrator/workspace/xgboost-win64_release_1.3.0/src/learner.cc:1061: Starting in XGBoost 1.3.0, the default evaluation metric used with the objective 'binary:logistic' was changed from 'error' to 'logloss'. Explicitly set eval_metric if you'd like to restore the old behavior.\n",
      "[LightGBM] [Warning] Accuracy may be bad since you didn't explicitly set num_leaves OR 2^max_depth > num_leaves. (num_leaves=31).\n",
      "Wall time: 7.55 s\n"
     ]
    },
    {
     "data": {
      "text/html": [
       "<div>\n",
       "<style scoped>\n",
       "    .dataframe tbody tr th:only-of-type {\n",
       "        vertical-align: middle;\n",
       "    }\n",
       "\n",
       "    .dataframe tbody tr th {\n",
       "        vertical-align: top;\n",
       "    }\n",
       "\n",
       "    .dataframe thead th {\n",
       "        text-align: right;\n",
       "    }\n",
       "</style>\n",
       "<table border=\"1\" class=\"dataframe\">\n",
       "  <thead>\n",
       "    <tr style=\"text-align: right;\">\n",
       "      <th></th>\n",
       "      <th>f1_0_test_smote</th>\n",
       "      <th>f1_0_train_smote</th>\n",
       "      <th>f1_1_test_smote</th>\n",
       "      <th>f1_1_train_smote</th>\n",
       "      <th>f1_macro_test_smote</th>\n",
       "      <th>f1_macro_train_smote</th>\n",
       "      <th>model_name</th>\n",
       "    </tr>\n",
       "  </thead>\n",
       "  <tbody>\n",
       "    <tr>\n",
       "      <th>0</th>\n",
       "      <td>0.729932</td>\n",
       "      <td>0.630714</td>\n",
       "      <td>0.416022</td>\n",
       "      <td>0.535907</td>\n",
       "      <td>0.572977</td>\n",
       "      <td>0.583310</td>\n",
       "      <td>lr</td>\n",
       "    </tr>\n",
       "    <tr>\n",
       "      <th>1</th>\n",
       "      <td>0.667350</td>\n",
       "      <td>0.779272</td>\n",
       "      <td>0.380407</td>\n",
       "      <td>0.805635</td>\n",
       "      <td>0.523878</td>\n",
       "      <td>0.792454</td>\n",
       "      <td>knn</td>\n",
       "    </tr>\n",
       "    <tr>\n",
       "      <th>2</th>\n",
       "      <td>0.707150</td>\n",
       "      <td>1.000000</td>\n",
       "      <td>0.375783</td>\n",
       "      <td>1.000000</td>\n",
       "      <td>0.541466</td>\n",
       "      <td>1.000000</td>\n",
       "      <td>tree</td>\n",
       "    </tr>\n",
       "    <tr>\n",
       "      <th>3</th>\n",
       "      <td>0.805811</td>\n",
       "      <td>0.961019</td>\n",
       "      <td>0.418811</td>\n",
       "      <td>0.959394</td>\n",
       "      <td>0.612311</td>\n",
       "      <td>0.960206</td>\n",
       "      <td>xgb</td>\n",
       "    </tr>\n",
       "    <tr>\n",
       "      <th>4</th>\n",
       "      <td>0.691340</td>\n",
       "      <td>0.804622</td>\n",
       "      <td>0.499709</td>\n",
       "      <td>0.852455</td>\n",
       "      <td>0.595525</td>\n",
       "      <td>0.828539</td>\n",
       "      <td>lgbm</td>\n",
       "    </tr>\n",
       "    <tr>\n",
       "      <th>5</th>\n",
       "      <td>0.805900</td>\n",
       "      <td>0.901956</td>\n",
       "      <td>0.407207</td>\n",
       "      <td>0.894367</td>\n",
       "      <td>0.606553</td>\n",
       "      <td>0.898161</td>\n",
       "      <td>cat</td>\n",
       "    </tr>\n",
       "  </tbody>\n",
       "</table>\n",
       "</div>"
      ],
      "text/plain": [
       "   f1_0_test_smote  f1_0_train_smote  f1_1_test_smote  f1_1_train_smote  \\\n",
       "0         0.729932          0.630714         0.416022          0.535907   \n",
       "1         0.667350          0.779272         0.380407          0.805635   \n",
       "2         0.707150          1.000000         0.375783          1.000000   \n",
       "3         0.805811          0.961019         0.418811          0.959394   \n",
       "4         0.691340          0.804622         0.499709          0.852455   \n",
       "5         0.805900          0.901956         0.407207          0.894367   \n",
       "\n",
       "   f1_macro_test_smote  f1_macro_train_smote model_name  \n",
       "0             0.572977              0.583310         lr  \n",
       "1             0.523878              0.792454        knn  \n",
       "2             0.541466              1.000000       tree  \n",
       "3             0.612311              0.960206        xgb  \n",
       "4             0.595525              0.828539       lgbm  \n",
       "5             0.606553              0.898161        cat  "
      ]
     },
     "execution_count": 66,
     "metadata": {},
     "output_type": "execute_result"
    }
   ],
   "source": [
    "%%time\n",
    "stata_balanced_smote, models_smote = run_experiment(X_train_balanced, X_test, y_train_balanced, y_test, method='smote')\n",
    "stata_balanced_smote"
   ]
  },
  {
   "cell_type": "code",
   "execution_count": 67,
   "metadata": {},
   "outputs": [
    {
     "data": {
      "text/html": [
       "<div>\n",
       "<style scoped>\n",
       "    .dataframe tbody tr th:only-of-type {\n",
       "        vertical-align: middle;\n",
       "    }\n",
       "\n",
       "    .dataframe tbody tr th {\n",
       "        vertical-align: top;\n",
       "    }\n",
       "\n",
       "    .dataframe thead th {\n",
       "        text-align: right;\n",
       "    }\n",
       "</style>\n",
       "<table border=\"1\" class=\"dataframe\">\n",
       "  <thead>\n",
       "    <tr style=\"text-align: right;\">\n",
       "      <th></th>\n",
       "      <th>f1_0_test_not</th>\n",
       "      <th>f1_0_train_not</th>\n",
       "      <th>f1_1_test_not</th>\n",
       "      <th>f1_1_train_not</th>\n",
       "      <th>f1_macro_test_not</th>\n",
       "      <th>f1_macro_train_not</th>\n",
       "      <th>model_name</th>\n",
       "      <th>f1_0_test_under</th>\n",
       "      <th>f1_0_train_under</th>\n",
       "      <th>f1_1_test_under</th>\n",
       "      <th>...</th>\n",
       "      <th>f1_1_test_tomek</th>\n",
       "      <th>f1_1_train_tomek</th>\n",
       "      <th>f1_macro_test_tomek</th>\n",
       "      <th>f1_macro_train_tomek</th>\n",
       "      <th>f1_0_test_smote</th>\n",
       "      <th>f1_0_train_smote</th>\n",
       "      <th>f1_1_test_smote</th>\n",
       "      <th>f1_1_train_smote</th>\n",
       "      <th>f1_macro_test_smote</th>\n",
       "      <th>f1_macro_train_smote</th>\n",
       "    </tr>\n",
       "  </thead>\n",
       "  <tbody>\n",
       "    <tr>\n",
       "      <th>0</th>\n",
       "      <td>0.830089</td>\n",
       "      <td>0.833876</td>\n",
       "      <td>0.074499</td>\n",
       "      <td>0.073889</td>\n",
       "      <td>0.452294</td>\n",
       "      <td>0.453882</td>\n",
       "      <td>lr</td>\n",
       "      <td>0.753769</td>\n",
       "      <td>0.654493</td>\n",
       "      <td>0.404255</td>\n",
       "      <td>...</td>\n",
       "      <td>0.227273</td>\n",
       "      <td>0.281489</td>\n",
       "      <td>0.519714</td>\n",
       "      <td>0.545811</td>\n",
       "      <td>0.729932</td>\n",
       "      <td>0.630714</td>\n",
       "      <td>0.416022</td>\n",
       "      <td>0.535907</td>\n",
       "      <td>0.572977</td>\n",
       "      <td>0.583310</td>\n",
       "    </tr>\n",
       "    <tr>\n",
       "      <th>1</th>\n",
       "      <td>0.796155</td>\n",
       "      <td>0.853703</td>\n",
       "      <td>0.251298</td>\n",
       "      <td>0.471673</td>\n",
       "      <td>0.523726</td>\n",
       "      <td>0.662688</td>\n",
       "      <td>knn</td>\n",
       "      <td>0.646024</td>\n",
       "      <td>0.724093</td>\n",
       "      <td>0.393245</td>\n",
       "      <td>...</td>\n",
       "      <td>0.317857</td>\n",
       "      <td>0.584890</td>\n",
       "      <td>0.545911</td>\n",
       "      <td>0.718601</td>\n",
       "      <td>0.667350</td>\n",
       "      <td>0.779272</td>\n",
       "      <td>0.380407</td>\n",
       "      <td>0.805635</td>\n",
       "      <td>0.523878</td>\n",
       "      <td>0.792454</td>\n",
       "    </tr>\n",
       "    <tr>\n",
       "      <th>2</th>\n",
       "      <td>0.734707</td>\n",
       "      <td>1.000000</td>\n",
       "      <td>0.344136</td>\n",
       "      <td>1.000000</td>\n",
       "      <td>0.539421</td>\n",
       "      <td>1.000000</td>\n",
       "      <td>tree</td>\n",
       "      <td>0.619489</td>\n",
       "      <td>1.000000</td>\n",
       "      <td>0.429761</td>\n",
       "      <td>...</td>\n",
       "      <td>0.355621</td>\n",
       "      <td>1.000000</td>\n",
       "      <td>0.538116</td>\n",
       "      <td>1.000000</td>\n",
       "      <td>0.707150</td>\n",
       "      <td>1.000000</td>\n",
       "      <td>0.375783</td>\n",
       "      <td>1.000000</td>\n",
       "      <td>0.541466</td>\n",
       "      <td>1.000000</td>\n",
       "    </tr>\n",
       "    <tr>\n",
       "      <th>3</th>\n",
       "      <td>0.806081</td>\n",
       "      <td>0.964585</td>\n",
       "      <td>0.333333</td>\n",
       "      <td>0.899452</td>\n",
       "      <td>0.569707</td>\n",
       "      <td>0.932018</td>\n",
       "      <td>xgb</td>\n",
       "      <td>0.677794</td>\n",
       "      <td>0.989865</td>\n",
       "      <td>0.490826</td>\n",
       "      <td>...</td>\n",
       "      <td>0.400354</td>\n",
       "      <td>0.945698</td>\n",
       "      <td>0.599762</td>\n",
       "      <td>0.961086</td>\n",
       "      <td>0.805811</td>\n",
       "      <td>0.961019</td>\n",
       "      <td>0.418811</td>\n",
       "      <td>0.959394</td>\n",
       "      <td>0.612311</td>\n",
       "      <td>0.960206</td>\n",
       "    </tr>\n",
       "    <tr>\n",
       "      <th>4</th>\n",
       "      <td>0.764117</td>\n",
       "      <td>0.896763</td>\n",
       "      <td>0.478230</td>\n",
       "      <td>0.775053</td>\n",
       "      <td>0.621174</td>\n",
       "      <td>0.835908</td>\n",
       "      <td>lgbm</td>\n",
       "      <td>0.541720</td>\n",
       "      <td>0.800161</td>\n",
       "      <td>0.504854</td>\n",
       "      <td>...</td>\n",
       "      <td>0.498034</td>\n",
       "      <td>0.788833</td>\n",
       "      <td>0.620234</td>\n",
       "      <td>0.835314</td>\n",
       "      <td>0.691340</td>\n",
       "      <td>0.804622</td>\n",
       "      <td>0.499709</td>\n",
       "      <td>0.852455</td>\n",
       "      <td>0.595525</td>\n",
       "      <td>0.828539</td>\n",
       "    </tr>\n",
       "  </tbody>\n",
       "</table>\n",
       "<p>5 rows × 31 columns</p>\n",
       "</div>"
      ],
      "text/plain": [
       "   f1_0_test_not  f1_0_train_not  f1_1_test_not  f1_1_train_not  \\\n",
       "0       0.830089        0.833876       0.074499        0.073889   \n",
       "1       0.796155        0.853703       0.251298        0.471673   \n",
       "2       0.734707        1.000000       0.344136        1.000000   \n",
       "3       0.806081        0.964585       0.333333        0.899452   \n",
       "4       0.764117        0.896763       0.478230        0.775053   \n",
       "\n",
       "   f1_macro_test_not  f1_macro_train_not model_name  f1_0_test_under  \\\n",
       "0           0.452294            0.453882         lr         0.753769   \n",
       "1           0.523726            0.662688        knn         0.646024   \n",
       "2           0.539421            1.000000       tree         0.619489   \n",
       "3           0.569707            0.932018        xgb         0.677794   \n",
       "4           0.621174            0.835908       lgbm         0.541720   \n",
       "\n",
       "   f1_0_train_under  f1_1_test_under  ...  f1_1_test_tomek  f1_1_train_tomek  \\\n",
       "0          0.654493         0.404255  ...         0.227273          0.281489   \n",
       "1          0.724093         0.393245  ...         0.317857          0.584890   \n",
       "2          1.000000         0.429761  ...         0.355621          1.000000   \n",
       "3          0.989865         0.490826  ...         0.400354          0.945698   \n",
       "4          0.800161         0.504854  ...         0.498034          0.788833   \n",
       "\n",
       "   f1_macro_test_tomek  f1_macro_train_tomek  f1_0_test_smote  \\\n",
       "0             0.519714              0.545811         0.729932   \n",
       "1             0.545911              0.718601         0.667350   \n",
       "2             0.538116              1.000000         0.707150   \n",
       "3             0.599762              0.961086         0.805811   \n",
       "4             0.620234              0.835314         0.691340   \n",
       "\n",
       "   f1_0_train_smote  f1_1_test_smote  f1_1_train_smote  f1_macro_test_smote  \\\n",
       "0          0.630714         0.416022          0.535907             0.572977   \n",
       "1          0.779272         0.380407          0.805635             0.523878   \n",
       "2          1.000000         0.375783          1.000000             0.541466   \n",
       "3          0.961019         0.418811          0.959394             0.612311   \n",
       "4          0.804622         0.499709          0.852455             0.595525   \n",
       "\n",
       "   f1_macro_train_smote  \n",
       "0              0.583310  \n",
       "1              0.792454  \n",
       "2              1.000000  \n",
       "3              0.960206  \n",
       "4              0.828539  \n",
       "\n",
       "[5 rows x 31 columns]"
      ]
     },
     "execution_count": 67,
     "metadata": {},
     "output_type": "execute_result"
    }
   ],
   "source": [
    "stata_combined = stata_not_balanced.merge(stata_balanced_under, on='model_name') \\\n",
    "                                   .merge(stata_balanced_over, on='model_name') \\\n",
    "                                   .merge(stata_balanced_tomek, on='model_name') \\\n",
    "                                   .merge(stata_balanced_smote, on='model_name')\n",
    "stata_combined.head()"
   ]
  },
  {
   "cell_type": "code",
   "execution_count": 68,
   "metadata": {},
   "outputs": [
    {
     "data": {
      "text/html": [
       "<div>\n",
       "<style scoped>\n",
       "    .dataframe tbody tr th:only-of-type {\n",
       "        vertical-align: middle;\n",
       "    }\n",
       "\n",
       "    .dataframe tbody tr th {\n",
       "        vertical-align: top;\n",
       "    }\n",
       "\n",
       "    .dataframe thead th {\n",
       "        text-align: right;\n",
       "    }\n",
       "</style>\n",
       "<table border=\"1\" class=\"dataframe\">\n",
       "  <thead>\n",
       "    <tr style=\"text-align: right;\">\n",
       "      <th></th>\n",
       "      <th>f1_macro_test_not</th>\n",
       "      <th>f1_macro_test_under</th>\n",
       "      <th>f1_macro_test_over</th>\n",
       "      <th>f1_macro_test_tomek</th>\n",
       "      <th>f1_macro_test_smote</th>\n",
       "      <th>f1_1_test_not</th>\n",
       "      <th>f1_1_test_under</th>\n",
       "      <th>f1_1_test_over</th>\n",
       "      <th>f1_1_test_tomek</th>\n",
       "      <th>f1_1_test_smote</th>\n",
       "    </tr>\n",
       "  </thead>\n",
       "  <tbody>\n",
       "    <tr>\n",
       "      <th>count</th>\n",
       "      <td>6.000000</td>\n",
       "      <td>6.000000</td>\n",
       "      <td>6.000000</td>\n",
       "      <td>6.000000</td>\n",
       "      <td>6.000000</td>\n",
       "      <td>6.000000</td>\n",
       "      <td>6.000000</td>\n",
       "      <td>6.000000</td>\n",
       "      <td>6.000000</td>\n",
       "      <td>6.000000</td>\n",
       "    </tr>\n",
       "    <tr>\n",
       "      <th>mean</th>\n",
       "      <td>0.544055</td>\n",
       "      <td>0.554494</td>\n",
       "      <td>0.574311</td>\n",
       "      <td>0.569971</td>\n",
       "      <td>0.575452</td>\n",
       "      <td>0.295751</td>\n",
       "      <td>0.454731</td>\n",
       "      <td>0.405780</td>\n",
       "      <td>0.363212</td>\n",
       "      <td>0.416323</td>\n",
       "    </tr>\n",
       "    <tr>\n",
       "      <th>std</th>\n",
       "      <td>0.055955</td>\n",
       "      <td>0.035503</td>\n",
       "      <td>0.032972</td>\n",
       "      <td>0.040535</td>\n",
       "      <td>0.036193</td>\n",
       "      <td>0.132656</td>\n",
       "      <td>0.051650</td>\n",
       "      <td>0.067220</td>\n",
       "      <td>0.089930</td>\n",
       "      <td>0.044668</td>\n",
       "    </tr>\n",
       "    <tr>\n",
       "      <th>min</th>\n",
       "      <td>0.452294</td>\n",
       "      <td>0.519634</td>\n",
       "      <td>0.531710</td>\n",
       "      <td>0.519714</td>\n",
       "      <td>0.523878</td>\n",
       "      <td>0.074499</td>\n",
       "      <td>0.393245</td>\n",
       "      <td>0.334612</td>\n",
       "      <td>0.227273</td>\n",
       "      <td>0.375783</td>\n",
       "    </tr>\n",
       "    <tr>\n",
       "      <th>25%</th>\n",
       "      <td>0.527650</td>\n",
       "      <td>0.523622</td>\n",
       "      <td>0.547895</td>\n",
       "      <td>0.540065</td>\n",
       "      <td>0.549344</td>\n",
       "      <td>0.261725</td>\n",
       "      <td>0.410632</td>\n",
       "      <td>0.350638</td>\n",
       "      <td>0.327298</td>\n",
       "      <td>0.387107</td>\n",
       "    </tr>\n",
       "    <tr>\n",
       "      <th>50%</th>\n",
       "      <td>0.548714</td>\n",
       "      <td>0.551819</td>\n",
       "      <td>0.580880</td>\n",
       "      <td>0.571001</td>\n",
       "      <td>0.584251</td>\n",
       "      <td>0.313171</td>\n",
       "      <td>0.460293</td>\n",
       "      <td>0.401016</td>\n",
       "      <td>0.367877</td>\n",
       "      <td>0.411615</td>\n",
       "    </tr>\n",
       "    <tr>\n",
       "      <th>75%</th>\n",
       "      <td>0.566782</td>\n",
       "      <td>0.582985</td>\n",
       "      <td>0.597873</td>\n",
       "      <td>0.598844</td>\n",
       "      <td>0.603796</td>\n",
       "      <td>0.341435</td>\n",
       "      <td>0.501347</td>\n",
       "      <td>0.442066</td>\n",
       "      <td>0.395299</td>\n",
       "      <td>0.418114</td>\n",
       "    </tr>\n",
       "    <tr>\n",
       "      <th>max</th>\n",
       "      <td>0.621174</td>\n",
       "      <td>0.596098</td>\n",
       "      <td>0.611958</td>\n",
       "      <td>0.620234</td>\n",
       "      <td>0.612311</td>\n",
       "      <td>0.478230</td>\n",
       "      <td>0.505444</td>\n",
       "      <td>0.508438</td>\n",
       "      <td>0.498034</td>\n",
       "      <td>0.499709</td>\n",
       "    </tr>\n",
       "  </tbody>\n",
       "</table>\n",
       "</div>"
      ],
      "text/plain": [
       "       f1_macro_test_not  f1_macro_test_under  f1_macro_test_over  \\\n",
       "count           6.000000             6.000000            6.000000   \n",
       "mean            0.544055             0.554494            0.574311   \n",
       "std             0.055955             0.035503            0.032972   \n",
       "min             0.452294             0.519634            0.531710   \n",
       "25%             0.527650             0.523622            0.547895   \n",
       "50%             0.548714             0.551819            0.580880   \n",
       "75%             0.566782             0.582985            0.597873   \n",
       "max             0.621174             0.596098            0.611958   \n",
       "\n",
       "       f1_macro_test_tomek  f1_macro_test_smote  f1_1_test_not  \\\n",
       "count             6.000000             6.000000       6.000000   \n",
       "mean              0.569971             0.575452       0.295751   \n",
       "std               0.040535             0.036193       0.132656   \n",
       "min               0.519714             0.523878       0.074499   \n",
       "25%               0.540065             0.549344       0.261725   \n",
       "50%               0.571001             0.584251       0.313171   \n",
       "75%               0.598844             0.603796       0.341435   \n",
       "max               0.620234             0.612311       0.478230   \n",
       "\n",
       "       f1_1_test_under  f1_1_test_over  f1_1_test_tomek  f1_1_test_smote  \n",
       "count         6.000000        6.000000         6.000000         6.000000  \n",
       "mean          0.454731        0.405780         0.363212         0.416323  \n",
       "std           0.051650        0.067220         0.089930         0.044668  \n",
       "min           0.393245        0.334612         0.227273         0.375783  \n",
       "25%           0.410632        0.350638         0.327298         0.387107  \n",
       "50%           0.460293        0.401016         0.367877         0.411615  \n",
       "75%           0.501347        0.442066         0.395299         0.418114  \n",
       "max           0.505444        0.508438         0.498034         0.499709  "
      ]
     },
     "execution_count": 68,
     "metadata": {},
     "output_type": "execute_result"
    }
   ],
   "source": [
    "stata_combined.describe()[\n",
    "    ['f1_macro_test_not', 'f1_macro_test_under', 'f1_macro_test_over',\n",
    "     'f1_macro_test_tomek', 'f1_macro_test_smote',\n",
    "     'f1_1_test_not', 'f1_1_test_under', 'f1_1_test_over',\n",
    "     'f1_1_test_tomek', 'f1_1_test_smote']\n",
    "]"
   ]
  },
  {
   "cell_type": "code",
   "execution_count": 69,
   "metadata": {},
   "outputs": [
    {
     "data": {
      "text/plain": [
       "f1_0_test_not           0.764117\n",
       "f1_0_train_not          0.896763\n",
       "f1_1_test_not            0.47823\n",
       "f1_1_train_not          0.775053\n",
       "f1_macro_test_not       0.621174\n",
       "f1_macro_train_not      0.835908\n",
       "model_name                  lgbm\n",
       "f1_0_test_under          0.54172\n",
       "f1_0_train_under        0.800161\n",
       "f1_1_test_under         0.504854\n",
       "f1_1_train_under        0.854556\n",
       "f1_macro_test_under     0.523287\n",
       "f1_macro_train_under    0.827358\n",
       "f1_0_test_over          0.660909\n",
       "f1_0_train_over         0.782622\n",
       "f1_1_test_over          0.508438\n",
       "f1_1_train_over         0.808279\n",
       "f1_macro_test_over      0.584673\n",
       "f1_macro_train_over     0.795451\n",
       "f1_0_test_tomek         0.742434\n",
       "f1_0_train_tomek        0.881796\n",
       "f1_1_test_tomek         0.498034\n",
       "f1_1_train_tomek        0.788833\n",
       "f1_macro_test_tomek     0.620234\n",
       "f1_macro_train_tomek    0.835314\n",
       "f1_0_test_smote          0.69134\n",
       "f1_0_train_smote        0.804622\n",
       "f1_1_test_smote         0.499709\n",
       "f1_1_train_smote        0.852455\n",
       "f1_macro_test_smote     0.595525\n",
       "f1_macro_train_smote    0.828539\n",
       "Name: 4, dtype: object"
      ]
     },
     "execution_count": 69,
     "metadata": {},
     "output_type": "execute_result"
    }
   ],
   "source": [
    "stata_combined.sort_values('f1_1_test_smote', ascending=False).iloc[0]"
   ]
  },
  {
   "cell_type": "code",
   "execution_count": 70,
   "metadata": {},
   "outputs": [
    {
     "data": {
      "image/png": "[encoded data removed]",
      "text/plain": [
       "<Figure size 1440x383.4 with 1 Axes>"
      ]
     },
     "metadata": {
      "needs_background": "light"
     },
     "output_type": "display_data"
    }
   ],
   "source": [
    "model = models_under['lgbm']\n",
    "important_features_top = show_feature_importances(SELECTED_FEATURE_NAMES,\n",
    "                                                  models_under['cat'].feature_importances_, get_top=25)"
   ]
  },
  {
   "cell_type": "code",
   "execution_count": 71,
   "metadata": {},
   "outputs": [
    {
     "data": {
      "image/png": "[encoded data removed]",
      "text/plain": [
       "<Figure size 1440x383.4 with 1 Axes>"
      ]
     },
     "metadata": {
      "needs_background": "light"
     },
     "output_type": "display_data"
    }
   ],
   "source": [
    "important_features_top = show_feature_importances(SELECTED_FEATURE_NAMES,\n",
    "                                                  models_under['lgbm'].feature_importances_, get_top=25)"
   ]
  },
  {
   "cell_type": "code",
   "execution_count": 72,
   "metadata": {},
   "outputs": [
    {
     "data": {
      "image/png": "[encoded data removed]",
      "text/plain": [
       "<Figure size 1440x383.4 with 1 Axes>"
      ]
     },
     "metadata": {
      "needs_background": "light"
     },
     "output_type": "display_data"
    }
   ],
   "source": [
    "important_features_top = show_feature_importances(SELECTED_FEATURE_NAMES,\n",
    "                                                  models_under['xgb'].feature_importances_, get_top=25)"
   ]
  },
  {
   "cell_type": "code",
   "execution_count": 73,
   "metadata": {},
   "outputs": [],
   "source": [
    "df_test = pd.read_csv(TEST_PATH)\n"
   ]
  },
  {
   "cell_type": "code",
   "execution_count": 74,
   "metadata": {},
   "outputs": [],
   "source": [
    "\n",
    "\n",
    "df_test.loc[df_test['Years in current job'] == '< 1 year', ['Years in current job']] = 0\n",
    "df_test.loc[df_test['Years in current job'] == '1 year', ['Years in current job']] = 1\n",
    "df_test.loc[df_test['Years in current job'] == '2 years', ['Years in current job']] = 2\n",
    "df_test.loc[df_test['Years in current job'] == '3 years', ['Years in current job']] = 3\n",
    "df_test.loc[df_test['Years in current job'] == '4 years', ['Years in current job']] = 4\n",
    "df_test.loc[df_test['Years in current job'] == '5 years', ['Years in current job']] = 5\n",
    "df_test.loc[df_test['Years in current job'] == '6 years', ['Years in current job']] = 6\n",
    "df_test.loc[df_test['Years in current job'] == '7 years', ['Years in current job']] = 7\n",
    "df_test.loc[df_test['Years in current job'] == '8 years', ['Years in current job']] = 8\n",
    "df_test.loc[df_test['Years in current job'] == '9 years', ['Years in current job']] = 9\n",
    "df_test.loc[df_test['Years in current job'] == '10+ years', ['Years in current job']] = 10\n",
    "df_test.loc[df_test['Years in current job'].isna(), ['Years in current job']] = -1\n",
    "\n",
    "\n",
    "df_test.loc[df_test['Purpose'] == 'debt consolidation', ['Purpose']] = 1\n",
    "df_test.loc[df_test['Purpose'] == 'other', ['Purpose']] = 2\n",
    "df_test.loc[df_test['Purpose'] == 'home improvements', ['Purpose']] = 3\n",
    "df_test.loc[df_test['Purpose'] == 'business loan', ['Purpose']] = 4\n",
    "df_test.loc[df_test['Purpose'] == 'buy a car', ['Purpose']] = 5\n",
    "df_test.loc[df_test['Purpose'] == 'medical bills', ['Purpose']] = 6\n",
    "df_test.loc[df_test['Purpose'] == 'major purchase', ['Purpose']] = 7\n",
    "df_test.loc[df_test['Purpose'] == 'take a trip', ['Purpose']] = 8\n",
    "df_test.loc[df_test['Purpose'] == 'buy house', ['Purpose']] = 9\n",
    "df_test.loc[df_test['Purpose'] == 'small business', ['Purpose']] = 10\n",
    "df_test.loc[df_test['Purpose'] == 'wedding', ['Purpose']] = 11\n",
    "df_test.loc[df_test['Purpose'] == 'moving', ['Purpose']] = 12\n",
    "df_test.loc[df_test['Purpose'] == 'educational expenses', ['Purpose']] = 13\n",
    "df_test.loc[df_test['Purpose'] == 'vacation', ['Purpose']] = 14\n",
    "df_test.loc[df_test['Purpose'] == 'renewable energy', ['Purpose']] = 15\n",
    "df_test.loc[df_test['Purpose'].isna(), ['Purpose']] = -1\n",
    "\n",
    "\n",
    "df_test.loc[df_test['Term'] == 'Short Term', ['Term']] = 0\n",
    "df_test.loc[df_test['Term'] == 'Long Term', ['Term']] = 1\n",
    "df_test.loc[df_test['Term'].isna(), ['Term']] = -1\n",
    "\n",
    "\n",
    "df_test.loc[df_test['Home Ownership'] == 'Home Mortgage', ['Home Ownership']] = 0\n",
    "df_test.loc[df_test['Home Ownership'] == 'Rent', ['Home Ownership']] = 1\n",
    "df_test.loc[df_test['Home Ownership'] == 'Own Home', ['Home Ownership']] = 2\n",
    "df_test.loc[df_test['Home Ownership'] == 'Have Mortgage', ['Home Ownership']] = 3\n",
    "df_test.loc[df_test['Home Ownership'].isna(), ['Home Ownership']] = -1\n",
    "\n",
    "df_test[['Years in current job', 'Purpose', 'Term', 'Home Ownership']] = df_test[['Years in current job', 'Purpose', 'Term', 'Home Ownership']].astype(float)\n",
    "\n"
   ]
  },
  {
   "cell_type": "code",
   "execution_count": 75,
   "metadata": {},
   "outputs": [],
   "source": [
    "X__from_test = df_test[SELECTED_FEATURE_NAMES]"
   ]
  },
  {
   "cell_type": "code",
   "execution_count": 76,
   "metadata": {},
   "outputs": [
    {
     "name": "stdout",
     "output_type": "stream",
     "text": [
      "TRAIN\n",
      "\n",
      "              precision    recall  f1-score   support\n",
      "\n",
      "           0       0.98      0.67      0.80      1479\n",
      "           1       0.75      0.99      0.85      1479\n",
      "\n",
      "    accuracy                           0.83      2958\n",
      "   macro avg       0.87      0.83      0.83      2958\n",
      "weighted avg       0.87      0.83      0.83      2958\n",
      "\n",
      "TEST\n",
      "\n",
      "              precision    recall  f1-score   support\n",
      "\n",
      "           0       0.88      0.39      0.54      1616\n",
      "           1       0.36      0.86      0.50       634\n",
      "\n",
      "    accuracy                           0.52      2250\n",
      "   macro avg       0.62      0.63      0.52      2250\n",
      "weighted avg       0.73      0.52      0.53      2250\n",
      "\n",
      "CONFUSION MATRIX\n",
      "\n",
      "col_0             0    1\n",
      "Credit Default          \n",
      "0               633  983\n",
      "1                88  546\n"
     ]
    }
   ],
   "source": [
    "pred_train = model.predict(X_train_balanced)\n",
    "pred_test = model.predict(X__from_test)\n",
    "\n",
    "evaluate_preds(model, X_train_balanced_under, X_test, y_train_balanced_under,y_test)"
   ]
  },
  {
   "cell_type": "code",
   "execution_count": 77,
   "metadata": {},
   "outputs": [
    {
     "data": {
      "text/plain": [
       "array([0, 0, 0, 0, 0, 0, 0, 0, 0, 0, 0, 0, 0, 0, 0, 0, 0, 0, 0, 0, 0, 0,\n",
       "       0, 0, 0, 0, 0, 0, 0, 0, 0, 0, 0, 0, 0, 0, 0, 0, 0, 0, 0, 0, 0, 0,\n",
       "       0, 0, 0, 0, 0, 0, 0, 0, 0, 0, 0, 0, 0, 0, 0, 0, 0, 0, 0, 0, 0, 0,\n",
       "       0, 0, 0, 0, 0, 0, 0, 0, 0, 0, 0, 0, 0, 0, 0, 0, 0, 0, 0, 0, 0, 0,\n",
       "       0, 0, 0, 0, 0, 0, 0, 0, 0, 0, 0, 0, 0, 0, 0, 0, 0, 0, 0, 0, 0, 0,\n",
       "       0, 0, 0, 0, 0, 0, 0, 0, 0, 0, 0, 0, 0, 0, 0, 0, 0, 0, 0, 0, 0, 0,\n",
       "       0, 0, 0, 0, 0, 0, 0, 0], dtype=int64)"
      ]
     },
     "execution_count": 77,
     "metadata": {},
     "output_type": "execute_result"
    }
   ],
   "source": [
    "pred_test[10:150]"
   ]
  },
  {
   "cell_type": "code",
   "execution_count": 78,
   "metadata": {},
   "outputs": [
    {
     "data": {
      "text/plain": [
       "array([1, 1, 1, 1, 1, 1, 1, 1, 0, 1, 0, 1, 0, 0, 1, 1, 0, 1, 1, 1, 1, 0,\n",
       "       0, 1, 0, 1, 0, 0, 1, 1, 1, 1, 0, 1, 0, 0, 1, 0, 0, 0], dtype=int64)"
      ]
     },
     "execution_count": 78,
     "metadata": {},
     "output_type": "execute_result"
    }
   ],
   "source": [
    "pred_train[10:50]"
   ]
  },
  {
   "cell_type": "code",
   "execution_count": 79,
   "metadata": {},
   "outputs": [],
   "source": [
    "preds_final = pd.DataFrame()\n",
    "preds_final['Id'] = [i for i in range(len(X__from_test))]\n",
    "preds_final['Credit Default'] = pred_test\n",
    "preds_final.to_csv('predictions.csv', index=False)"
   ]
  },
  {
   "cell_type": "code",
   "execution_count": 80,
   "metadata": {},
   "outputs": [],
   "source": [
    "preds_final = pd.DataFrame()\n",
    "preds_final['Id'] = [i for i in range(len(X_train_balanced))]\n",
    "preds_final['Credit Default'] = pred_train\n",
    "preds_final.to_csv('predictions2.csv', index=False)"
   ]
  },
  {
   "cell_type": "code",
   "execution_count": null,
   "metadata": {},
   "outputs": [],
   "source": []
  },
  {
   "cell_type": "code",
   "execution_count": null,
   "metadata": {},
   "outputs": [],
   "source": []
  }
 ],
 "metadata": {
  "kernelspec": {
   "display_name": "Python 3",
   "language": "python",
   "name": "python3"
  },
  "language_info": {
   "codemirror_mode": {
    "name": "ipython",
    "version": 3
   },
   "file_extension": ".py",
   "mimetype": "text/x-python",
   "name": "python",
   "nbconvert_exporter": "python",
   "pygments_lexer": "ipython3",
   "version": "3.8.5"
  }
 },
 "nbformat": 4,
 "nbformat_minor": 4
}
